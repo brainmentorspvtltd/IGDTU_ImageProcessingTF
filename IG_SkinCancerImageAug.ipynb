{
  "nbformat": 4,
  "nbformat_minor": 0,
  "metadata": {
    "colab": {
      "provenance": [],
      "gpuType": "T4",
      "authorship_tag": "ABX9TyMOJQfQJy5Tt85EdmK3A64f",
      "include_colab_link": true
    },
    "kernelspec": {
      "name": "python3",
      "display_name": "Python 3"
    },
    "language_info": {
      "name": "python"
    },
    "accelerator": "GPU"
  },
  "cells": [
    {
      "cell_type": "markdown",
      "metadata": {
        "id": "view-in-github",
        "colab_type": "text"
      },
      "source": [
        "<a href=\"https://colab.research.google.com/github/brainmentorspvtltd/IGDTU_ImageProcessingTF/blob/main/IG_SkinCancerImageAug.ipynb\" target=\"_parent\"><img src=\"https://colab.research.google.com/assets/colab-badge.svg\" alt=\"Open In Colab\"/></a>"
      ]
    },
    {
      "cell_type": "code",
      "execution_count": 1,
      "metadata": {
        "colab": {
          "base_uri": "https://localhost:8080/"
        },
        "id": "X-cfQohPUw6W",
        "outputId": "c63d6376-36ae-413f-ad76-8928a52972bd"
      },
      "outputs": [
        {
          "output_type": "stream",
          "name": "stdout",
          "text": [
            "Downloading skin-cancer9-classesisic.zip to /content\n",
            " 99% 775M/786M [00:09<00:00, 39.8MB/s]\n",
            "100% 786M/786M [00:09<00:00, 86.1MB/s]\n"
          ]
        }
      ],
      "source": [
        "import os\n",
        "\n",
        "os.environ[\"KAGGLE_USERNAME\"] = \"ravikanttyagi\"\n",
        "os.environ[\"KAGGLE_KEY\"] = \"095a21c789eb4728fde2b29230033273\"\n",
        "\n",
        "!kaggle datasets download nodoubttome/skin-cancer9-classesisic"
      ]
    },
    {
      "cell_type": "code",
      "source": [
        "from IPython.display import clear_output\n",
        "\n",
        "!unzip skin-cancer9-classesisic.zip\n",
        "\n",
        "clear_output()"
      ],
      "metadata": {
        "id": "1m89wxkgU5X0"
      },
      "execution_count": 2,
      "outputs": []
    },
    {
      "cell_type": "code",
      "source": [
        "import numpy as np\n",
        "import cv2\n",
        "import matplotlib.pyplot as plt\n",
        "from tqdm import tqdm\n",
        "import os\n",
        "import tensorflow as tf\n",
        "from tensorflow.keras.layers import Conv2D, MaxPool2D, Dense, Flatten\n",
        "from tensorflow.keras.layers import LeakyReLU, Dropout, BatchNormalization\n",
        "from tensorflow.keras.models import Model, Sequential\n",
        "from tensorflow.keras.preprocessing.image import ImageDataGenerator"
      ],
      "metadata": {
        "id": "7yetBp4bVICC"
      },
      "execution_count": 3,
      "outputs": []
    },
    {
      "cell_type": "code",
      "source": [
        "train_path = \"dataset/Train\"\n",
        "test_path = \"dataset/Test\""
      ],
      "metadata": {
        "id": "3v1Cl9q8VrMT"
      },
      "execution_count": 4,
      "outputs": []
    },
    {
      "cell_type": "code",
      "source": [
        "class_names = os.listdir(train_path)"
      ],
      "metadata": {
        "id": "Ke3tORwMVt22"
      },
      "execution_count": 5,
      "outputs": []
    },
    {
      "cell_type": "code",
      "source": [
        "class_names"
      ],
      "metadata": {
        "colab": {
          "base_uri": "https://localhost:8080/"
        },
        "id": "U8tHmUs5Vu-V",
        "outputId": "ad99fc8e-5f84-4d49-d487-e6b78f42bf33"
      },
      "execution_count": 6,
      "outputs": [
        {
          "output_type": "execute_result",
          "data": {
            "text/plain": [
              "['melanoma',\n",
              " 'seborrheic keratosis',\n",
              " 'dermatofibroma',\n",
              " 'squamous cell carcinoma',\n",
              " 'nevus',\n",
              " 'vascular lesion',\n",
              " 'actinic keratosis',\n",
              " 'basal cell carcinoma',\n",
              " 'pigmented benign keratosis']"
            ]
          },
          "metadata": {},
          "execution_count": 6
        }
      ]
    },
    {
      "cell_type": "code",
      "source": [
        "for name in class_names:\n",
        "  path = train_path + \"/\" + name\n",
        "  n_images = len(os.listdir(path))\n",
        "  print(name, \" : \", n_images)"
      ],
      "metadata": {
        "colab": {
          "base_uri": "https://localhost:8080/"
        },
        "id": "4jvvm-3RVwDx",
        "outputId": "65025284-957f-4439-82e7-b10b2780c567"
      },
      "execution_count": 7,
      "outputs": [
        {
          "output_type": "stream",
          "name": "stdout",
          "text": [
            "melanoma  :  438\n",
            "seborrheic keratosis  :  77\n",
            "dermatofibroma  :  95\n",
            "squamous cell carcinoma  :  181\n",
            "nevus  :  357\n",
            "vascular lesion  :  139\n",
            "actinic keratosis  :  114\n",
            "basal cell carcinoma  :  376\n",
            "pigmented benign keratosis  :  462\n"
          ]
        }
      ]
    },
    {
      "cell_type": "code",
      "source": [
        "for name in class_names:\n",
        "  path = test_path + \"/\" + name\n",
        "  n_images = len(os.listdir(path))\n",
        "  print(name, \" : \", n_images)"
      ],
      "metadata": {
        "colab": {
          "base_uri": "https://localhost:8080/"
        },
        "id": "RgO6DDZsVxrQ",
        "outputId": "732119b3-05a5-4519-a0a4-af541d39aa0f"
      },
      "execution_count": 8,
      "outputs": [
        {
          "output_type": "stream",
          "name": "stdout",
          "text": [
            "melanoma  :  16\n",
            "seborrheic keratosis  :  3\n",
            "dermatofibroma  :  16\n",
            "squamous cell carcinoma  :  16\n",
            "nevus  :  16\n",
            "vascular lesion  :  3\n",
            "actinic keratosis  :  16\n",
            "basal cell carcinoma  :  16\n",
            "pigmented benign keratosis  :  16\n"
          ]
        }
      ]
    },
    {
      "cell_type": "code",
      "source": [
        "# Pre-processing of images\n",
        "image_data_gen = ImageDataGenerator(horizontal_flip=True,\n",
        "                                    shear_range=0.2,\n",
        "                                    zoom_range=0.2,\n",
        "                                    rescale=1/255.,\n",
        "                                    rotation_range=30,\n",
        "                                    vertical_flip=True\n",
        "                                    )"
      ],
      "metadata": {
        "id": "pI2u8hQSVzDj"
      },
      "execution_count": 9,
      "outputs": []
    },
    {
      "cell_type": "code",
      "source": [
        "X_train = image_data_gen.flow_from_directory(train_path, target_size=(224,224), batch_size=4, class_mode=\"sparse\")"
      ],
      "metadata": {
        "colab": {
          "base_uri": "https://localhost:8080/"
        },
        "id": "zub1EVMAWUmU",
        "outputId": "82194093-c256-4720-f191-a274c6350813"
      },
      "execution_count": 10,
      "outputs": [
        {
          "output_type": "stream",
          "name": "stdout",
          "text": [
            "Found 2239 images belonging to 9 classes.\n"
          ]
        }
      ]
    },
    {
      "cell_type": "code",
      "source": [
        "X_val = image_data_gen.flow_from_directory(test_path, target_size=(224,224), batch_size=4, class_mode=\"sparse\")"
      ],
      "metadata": {
        "colab": {
          "base_uri": "https://localhost:8080/"
        },
        "id": "axOpkiIRWsOT",
        "outputId": "b06a7344-2517-4bea-9206-fca5024bf859"
      },
      "execution_count": 11,
      "outputs": [
        {
          "output_type": "stream",
          "name": "stdout",
          "text": [
            "Found 118 images belonging to 9 classes.\n"
          ]
        }
      ]
    },
    {
      "cell_type": "code",
      "source": [
        "model = Sequential()\n",
        "model.add(Conv2D(128, (3,3), input_shape=(224,224,3), activation=\"relu\"))\n",
        "model.add(Conv2D(128, (3,3), activation=\"relu\"))\n",
        "model.add(MaxPool2D(pool_size=(2,2)))\n",
        "model.add(Conv2D(64, (3,3), activation=\"relu\"))\n",
        "model.add(Conv2D(64, (3,3), activation=\"relu\"))\n",
        "model.add(MaxPool2D(pool_size=(2,2)))\n",
        "model.add(Conv2D(32, (3,3), activation=\"relu\"))\n",
        "model.add(Conv2D(32, (3,3), activation=\"relu\"))\n",
        "model.add(MaxPool2D(pool_size=(2,2)))\n",
        "model.add(Flatten())\n",
        "model.add(Dense(1024, activation=LeakyReLU(0.1)))\n",
        "model.add(Dropout(0.3))\n",
        "model.add(BatchNormalization())\n",
        "model.add(Dense(512, activation=LeakyReLU(0.1)))\n",
        "model.add(Dropout(0.3))\n",
        "model.add(BatchNormalization())\n",
        "model.add(Dense(256, activation=LeakyReLU(0.1)))\n",
        "model.add(Dropout(0.3))\n",
        "model.add(BatchNormalization())\n",
        "model.add(Dense(128, activation=LeakyReLU(0.1)))\n",
        "model.add(Dense(9, activation=\"sigmoid\"))"
      ],
      "metadata": {
        "id": "h7nlsyOFWxV_"
      },
      "execution_count": 12,
      "outputs": []
    },
    {
      "cell_type": "code",
      "source": [
        "model.summary()"
      ],
      "metadata": {
        "colab": {
          "base_uri": "https://localhost:8080/"
        },
        "id": "Nc-WPytuY87Q",
        "outputId": "a47e001a-8e40-46d9-b09a-93640ca4b5b2"
      },
      "execution_count": 13,
      "outputs": [
        {
          "output_type": "stream",
          "name": "stdout",
          "text": [
            "Model: \"sequential\"\n",
            "_________________________________________________________________\n",
            " Layer (type)                Output Shape              Param #   \n",
            "=================================================================\n",
            " conv2d (Conv2D)             (None, 222, 222, 128)     3584      \n",
            "                                                                 \n",
            " conv2d_1 (Conv2D)           (None, 220, 220, 128)     147584    \n",
            "                                                                 \n",
            " max_pooling2d (MaxPooling2D  (None, 110, 110, 128)    0         \n",
            " )                                                               \n",
            "                                                                 \n",
            " conv2d_2 (Conv2D)           (None, 108, 108, 64)      73792     \n",
            "                                                                 \n",
            " conv2d_3 (Conv2D)           (None, 106, 106, 64)      36928     \n",
            "                                                                 \n",
            " max_pooling2d_1 (MaxPooling  (None, 53, 53, 64)       0         \n",
            " 2D)                                                             \n",
            "                                                                 \n",
            " conv2d_4 (Conv2D)           (None, 51, 51, 32)        18464     \n",
            "                                                                 \n",
            " conv2d_5 (Conv2D)           (None, 49, 49, 32)        9248      \n",
            "                                                                 \n",
            " max_pooling2d_2 (MaxPooling  (None, 24, 24, 32)       0         \n",
            " 2D)                                                             \n",
            "                                                                 \n",
            " flatten (Flatten)           (None, 18432)             0         \n",
            "                                                                 \n",
            " dense (Dense)               (None, 1024)              18875392  \n",
            "                                                                 \n",
            " dropout (Dropout)           (None, 1024)              0         \n",
            "                                                                 \n",
            " batch_normalization (BatchN  (None, 1024)             4096      \n",
            " ormalization)                                                   \n",
            "                                                                 \n",
            " dense_1 (Dense)             (None, 512)               524800    \n",
            "                                                                 \n",
            " dropout_1 (Dropout)         (None, 512)               0         \n",
            "                                                                 \n",
            " batch_normalization_1 (Batc  (None, 512)              2048      \n",
            " hNormalization)                                                 \n",
            "                                                                 \n",
            " dense_2 (Dense)             (None, 256)               131328    \n",
            "                                                                 \n",
            " dropout_2 (Dropout)         (None, 256)               0         \n",
            "                                                                 \n",
            " batch_normalization_2 (Batc  (None, 256)              1024      \n",
            " hNormalization)                                                 \n",
            "                                                                 \n",
            " dense_3 (Dense)             (None, 128)               32896     \n",
            "                                                                 \n",
            " dense_4 (Dense)             (None, 9)                 1161      \n",
            "                                                                 \n",
            "=================================================================\n",
            "Total params: 19,862,345\n",
            "Trainable params: 19,858,761\n",
            "Non-trainable params: 3,584\n",
            "_________________________________________________________________\n"
          ]
        }
      ]
    },
    {
      "cell_type": "code",
      "source": [
        "model.compile(optimizer=tf.keras.optimizers.Adam(),\n",
        "              loss=tf.keras.losses.SparseCategoricalCrossentropy(),\n",
        "              metrics=['acc'])\n",
        "\n",
        "history = model.fit(X_train, epochs=30, validation_data=X_val)"
      ],
      "metadata": {
        "colab": {
          "base_uri": "https://localhost:8080/"
        },
        "id": "3RnttvFXY-pN",
        "outputId": "f8696330-26cb-4be2-c711-854ae3b468d6"
      },
      "execution_count": 14,
      "outputs": [
        {
          "output_type": "stream",
          "name": "stdout",
          "text": [
            "Epoch 1/30\n",
            "560/560 [==============================] - 99s 149ms/step - loss: 2.2160 - acc: 0.2229 - val_loss: 2.2263 - val_acc: 0.1441\n",
            "Epoch 2/30\n",
            "560/560 [==============================] - 80s 143ms/step - loss: 2.1091 - acc: 0.2318 - val_loss: 2.3920 - val_acc: 0.1864\n",
            "Epoch 3/30\n",
            "560/560 [==============================] - 81s 145ms/step - loss: 2.0320 - acc: 0.2537 - val_loss: 4.1593 - val_acc: 0.0932\n",
            "Epoch 4/30\n",
            "560/560 [==============================] - 80s 142ms/step - loss: 1.9989 - acc: 0.2488 - val_loss: 2.3298 - val_acc: 0.2203\n",
            "Epoch 5/30\n",
            "560/560 [==============================] - 81s 144ms/step - loss: 1.8878 - acc: 0.2890 - val_loss: 2.2487 - val_acc: 0.2542\n",
            "Epoch 6/30\n",
            "560/560 [==============================] - 91s 163ms/step - loss: 1.8756 - acc: 0.3068 - val_loss: 3.1567 - val_acc: 0.1271\n",
            "Epoch 7/30\n",
            "560/560 [==============================] - 82s 147ms/step - loss: 1.8208 - acc: 0.3372 - val_loss: 2.2865 - val_acc: 0.2119\n",
            "Epoch 8/30\n",
            "560/560 [==============================] - 82s 146ms/step - loss: 1.8448 - acc: 0.3135 - val_loss: 2.1528 - val_acc: 0.2797\n",
            "Epoch 9/30\n",
            "560/560 [==============================] - 81s 145ms/step - loss: 1.7759 - acc: 0.3439 - val_loss: 2.1306 - val_acc: 0.2627\n",
            "Epoch 10/30\n",
            "560/560 [==============================] - 82s 146ms/step - loss: 1.7696 - acc: 0.3488 - val_loss: 2.4219 - val_acc: 0.1441\n",
            "Epoch 11/30\n",
            "560/560 [==============================] - 83s 148ms/step - loss: 1.7892 - acc: 0.3537 - val_loss: 2.3104 - val_acc: 0.2712\n",
            "Epoch 12/30\n",
            "560/560 [==============================] - 82s 147ms/step - loss: 1.7733 - acc: 0.3524 - val_loss: 2.3886 - val_acc: 0.2797\n",
            "Epoch 13/30\n",
            "560/560 [==============================] - 83s 148ms/step - loss: 1.7764 - acc: 0.3461 - val_loss: 2.3317 - val_acc: 0.3305\n",
            "Epoch 14/30\n",
            "560/560 [==============================] - 93s 165ms/step - loss: 1.7515 - acc: 0.3573 - val_loss: 2.4092 - val_acc: 0.2458\n",
            "Epoch 15/30\n",
            "560/560 [==============================] - 94s 167ms/step - loss: 1.7667 - acc: 0.3595 - val_loss: 3.0289 - val_acc: 0.2881\n",
            "Epoch 16/30\n",
            "560/560 [==============================] - 82s 146ms/step - loss: 1.7585 - acc: 0.3792 - val_loss: 2.8886 - val_acc: 0.2797\n",
            "Epoch 17/30\n",
            "560/560 [==============================] - 83s 148ms/step - loss: 1.7429 - acc: 0.3729 - val_loss: 2.2912 - val_acc: 0.2712\n",
            "Epoch 18/30\n",
            "560/560 [==============================] - 93s 165ms/step - loss: 1.7548 - acc: 0.3600 - val_loss: 2.4081 - val_acc: 0.1441\n",
            "Epoch 19/30\n",
            "560/560 [==============================] - 82s 147ms/step - loss: 1.7515 - acc: 0.3640 - val_loss: 2.3533 - val_acc: 0.2288\n",
            "Epoch 20/30\n",
            "560/560 [==============================] - 81s 144ms/step - loss: 1.7655 - acc: 0.3618 - val_loss: 2.2712 - val_acc: 0.2712\n",
            "Epoch 21/30\n",
            "560/560 [==============================] - 82s 146ms/step - loss: 1.7344 - acc: 0.3640 - val_loss: 2.1847 - val_acc: 0.2542\n",
            "Epoch 22/30\n",
            "560/560 [==============================] - 81s 144ms/step - loss: 1.7636 - acc: 0.3694 - val_loss: 2.2506 - val_acc: 0.2966\n",
            "Epoch 23/30\n",
            "560/560 [==============================] - 81s 145ms/step - loss: 1.7546 - acc: 0.3671 - val_loss: 2.8011 - val_acc: 0.2288\n",
            "Epoch 24/30\n",
            "560/560 [==============================] - 81s 145ms/step - loss: 1.7509 - acc: 0.3609 - val_loss: 2.6684 - val_acc: 0.2881\n",
            "Epoch 25/30\n",
            "560/560 [==============================] - 82s 146ms/step - loss: 1.7397 - acc: 0.3694 - val_loss: 2.9390 - val_acc: 0.2712\n",
            "Epoch 26/30\n",
            "560/560 [==============================] - 81s 144ms/step - loss: 1.7316 - acc: 0.3689 - val_loss: 2.4946 - val_acc: 0.2712\n",
            "Epoch 27/30\n",
            "560/560 [==============================] - 81s 144ms/step - loss: 1.7284 - acc: 0.3689 - val_loss: 2.6242 - val_acc: 0.2119\n",
            "Epoch 28/30\n",
            "560/560 [==============================] - 82s 146ms/step - loss: 1.7282 - acc: 0.3747 - val_loss: 2.8942 - val_acc: 0.2966\n",
            "Epoch 29/30\n",
            "560/560 [==============================] - 81s 144ms/step - loss: 1.7258 - acc: 0.3810 - val_loss: 2.3562 - val_acc: 0.2373\n",
            "Epoch 30/30\n",
            "560/560 [==============================] - 82s 146ms/step - loss: 1.7438 - acc: 0.3627 - val_loss: 2.0797 - val_acc: 0.2881\n"
          ]
        }
      ]
    },
    {
      "cell_type": "code",
      "source": [
        "train_loss = history.history['loss']\n",
        "val_loss = history.history['val_loss']\n",
        "\n",
        "train_acc = history.history['acc']\n",
        "val_acc = history.history['val_acc']"
      ],
      "metadata": {
        "id": "2rkAZs9LZwZB"
      },
      "execution_count": 17,
      "outputs": []
    },
    {
      "cell_type": "code",
      "source": [
        "plt.plot(train_loss, label=\"Train Loss\")\n",
        "plt.plot(val_loss, label=\"Val Loss\")\n",
        "plt.legend()\n",
        "plt.title(\"Loss Graph\")\n",
        "plt.show()"
      ],
      "metadata": {
        "id": "Z2v8bfZnau1T",
        "colab": {
          "base_uri": "https://localhost:8080/",
          "height": 452
        },
        "outputId": "79fa274b-7ea7-43da-bf04-da5252ce7357"
      },
      "execution_count": 18,
      "outputs": [
        {
          "output_type": "display_data",
          "data": {
            "text/plain": [
              "<Figure size 640x480 with 1 Axes>"
            ],
            "image/png": "[encoded data removed]"
          },
          "metadata": {}
        }
      ]
    },
    {
      "cell_type": "code",
      "source": [
        "plt.plot(train_acc, label=\"Train Acc\")\n",
        "plt.plot(val_acc, label=\"Val Acc\")\n",
        "plt.legend()\n",
        "plt.title(\"Accuracy Graph\")\n",
        "plt.show()"
      ],
      "metadata": {
        "colab": {
          "base_uri": "https://localhost:8080/",
          "height": 452
        },
        "id": "D92vJAv4jxNH",
        "outputId": "c246d5d3-9722-4a70-d83c-cf8cfe8e05d2"
      },
      "execution_count": 19,
      "outputs": [
        {
          "output_type": "display_data",
          "data": {
            "text/plain": [
              "<Figure size 640x480 with 1 Axes>"
            ],
            "image/png": "[encoded data removed]"
          },
          "metadata": {}
        }
      ]
    },
    {
      "cell_type": "code",
      "source": [
        "model.evaluate(X_val)"
      ],
      "metadata": {
        "colab": {
          "base_uri": "https://localhost:8080/"
        },
        "id": "cgHlSe33j58X",
        "outputId": "a9204b75-ec94-4755-cd1b-63e3c3a0c532"
      },
      "execution_count": 21,
      "outputs": [
        {
          "output_type": "stream",
          "name": "stdout",
          "text": [
            "30/30 [==============================] - 11s 382ms/step - loss: 2.0843 - acc: 0.2881\n"
          ]
        }
      ]
    },
    {
      "cell_type": "code",
      "source": [
        "y_pred = model.predict(X_val)"
      ],
      "metadata": {
        "colab": {
          "base_uri": "https://localhost:8080/"
        },
        "id": "XPfHed-jkGcT",
        "outputId": "4a4661ad-ccfd-4cb8-983e-a16cde3977c8"
      },
      "execution_count": 23,
      "outputs": [
        {
          "output_type": "stream",
          "name": "stdout",
          "text": [
            "30/30 [==============================] - 11s 342ms/step\n"
          ]
        }
      ]
    },
    {
      "cell_type": "code",
      "source": [
        "y_pred[0]"
      ],
      "metadata": {
        "colab": {
          "base_uri": "https://localhost:8080/"
        },
        "id": "PrHyhk30kO8a",
        "outputId": "0b0a88ba-e364-40f1-f811-ce7befd5a9a4"
      },
      "execution_count": 25,
      "outputs": [
        {
          "output_type": "execute_result",
          "data": {
            "text/plain": [
              "array([0.1674485 , 0.6018669 , 0.11264011, 0.90278685, 0.78246063,\n",
              "       0.5011157 , 0.6984407 , 0.44352302, 0.0640143 ], dtype=float32)"
            ]
          },
          "metadata": {},
          "execution_count": 25
        }
      ]
    },
    {
      "cell_type": "code",
      "source": [
        "y_pred = np.argmax(y_pred, axis=1)"
      ],
      "metadata": {
        "id": "MVrRJdidkZZs"
      },
      "execution_count": 27,
      "outputs": []
    },
    {
      "cell_type": "code",
      "source": [
        "y_pred"
      ],
      "metadata": {
        "colab": {
          "base_uri": "https://localhost:8080/"
        },
        "id": "JNZW3QBjkgKN",
        "outputId": "931e30c3-02b4-4ffe-e5a0-9fdd27a354e0"
      },
      "execution_count": 28,
      "outputs": [
        {
          "output_type": "execute_result",
          "data": {
            "text/plain": [
              "array([3, 1, 1, 4, 5, 4, 1, 1, 1, 3, 3, 1, 1, 3, 3, 1, 4, 1, 4, 3, 1, 3,\n",
              "       1, 4, 3, 8, 1, 5, 4, 3, 4, 4, 4, 1, 1, 4, 1, 1, 1, 1, 4, 1, 5, 1,\n",
              "       8, 1, 4, 8, 1, 1, 1, 8, 5, 1, 8, 1, 4, 3, 1, 1, 4, 3, 5, 4, 5, 5,\n",
              "       1, 8, 4, 1, 5, 1, 1, 1, 1, 5, 5, 5, 1, 1, 3, 3, 4, 1, 1, 8, 5, 1,\n",
              "       4, 5, 5, 3, 1, 5, 1, 4, 3, 5, 8, 5, 1, 1, 5, 1, 1, 1, 1, 5, 3, 5,\n",
              "       4, 4, 5, 5, 1, 1, 3, 1])"
            ]
          },
          "metadata": {},
          "execution_count": 28
        }
      ]
    },
    {
      "cell_type": "code",
      "source": [
        "y_test = next(X_val)[1]"
      ],
      "metadata": {
        "id": "7ZLuLW3oklO-"
      },
      "execution_count": 32,
      "outputs": []
    },
    {
      "cell_type": "code",
      "source": [
        "y_test"
      ],
      "metadata": {
        "colab": {
          "base_uri": "https://localhost:8080/"
        },
        "id": "kAvWe350k-Fp",
        "outputId": "77c4967f-d190-4e7f-daa7-d03fef24ad27"
      },
      "execution_count": 33,
      "outputs": [
        {
          "output_type": "execute_result",
          "data": {
            "text/plain": [
              "array([1., 2., 2., 2.], dtype=float32)"
            ]
          },
          "metadata": {},
          "execution_count": 33
        }
      ]
    },
    {
      "cell_type": "code",
      "source": [
        "len(y_test)"
      ],
      "metadata": {
        "colab": {
          "base_uri": "https://localhost:8080/"
        },
        "id": "sqUIARTdlMLP",
        "outputId": "161e095b-62a3-44a2-b16a-d311dd60fdbc"
      },
      "execution_count": 34,
      "outputs": [
        {
          "output_type": "execute_result",
          "data": {
            "text/plain": [
              "4"
            ]
          },
          "metadata": {},
          "execution_count": 34
        }
      ]
    },
    {
      "cell_type": "code",
      "source": [
        "y_test = []\n",
        "for i in range(int(X_val.n/4) + 1):\n",
        "  img, labels = next(X_val)\n",
        "  # print(label)\n",
        "  for label in labels:\n",
        "    y_test.append(label)"
      ],
      "metadata": {
        "id": "orlv-cfglNz5"
      },
      "execution_count": 53,
      "outputs": []
    },
    {
      "cell_type": "code",
      "source": [
        "len(y_test)"
      ],
      "metadata": {
        "colab": {
          "base_uri": "https://localhost:8080/"
        },
        "id": "V-l6XrXElRzB",
        "outputId": "7addef89-799b-4891-ad82-948e78cb4350"
      },
      "execution_count": 54,
      "outputs": [
        {
          "output_type": "execute_result",
          "data": {
            "text/plain": [
              "118"
            ]
          },
          "metadata": {},
          "execution_count": 54
        }
      ]
    },
    {
      "cell_type": "code",
      "source": [
        "len(y_pred)"
      ],
      "metadata": {
        "colab": {
          "base_uri": "https://localhost:8080/"
        },
        "id": "0O-5iYOhmEcE",
        "outputId": "86c870e5-edfe-45cc-8b62-4f4114d00fe2"
      },
      "execution_count": 55,
      "outputs": [
        {
          "output_type": "execute_result",
          "data": {
            "text/plain": [
              "118"
            ]
          },
          "metadata": {},
          "execution_count": 55
        }
      ]
    },
    {
      "cell_type": "code",
      "source": [
        "from sklearn.metrics import confusion_matrix"
      ],
      "metadata": {
        "id": "Ssw62Upkmaie"
      },
      "execution_count": 56,
      "outputs": []
    },
    {
      "cell_type": "code",
      "source": [
        "confusion_matrix(y_test, y_pred)"
      ],
      "metadata": {
        "colab": {
          "base_uri": "https://localhost:8080/"
        },
        "id": "ekyyni0im-My",
        "outputId": "7fa97b3f-acae-40fa-ded1-b3ad325ee91b"
      },
      "execution_count": 57,
      "outputs": [
        {
          "output_type": "execute_result",
          "data": {
            "text/plain": [
              "array([[ 0,  9,  0,  2,  0,  4,  0,  0,  1],\n",
              "       [ 0,  7,  0,  2,  2,  3,  0,  0,  0],\n",
              "       [ 0,  6,  0,  3,  1,  3,  0,  0,  1],\n",
              "       [ 0,  5,  0,  2,  6,  3,  0,  0,  1],\n",
              "       [ 0, 10,  0,  3,  3,  1,  0,  0,  2],\n",
              "       [ 0,  5,  0,  1,  4,  3,  0,  0,  1],\n",
              "       [ 0,  0,  0,  0,  1,  0,  0,  0,  1],\n",
              "       [ 0,  8,  0,  1,  4,  4,  0,  0,  0],\n",
              "       [ 0,  0,  0,  3,  0,  1,  0,  0,  1]])"
            ]
          },
          "metadata": {},
          "execution_count": 57
        }
      ]
    },
    {
      "cell_type": "code",
      "source": [
        "import seaborn as sns"
      ],
      "metadata": {
        "id": "mYsxhBKznBhV"
      },
      "execution_count": 58,
      "outputs": []
    },
    {
      "cell_type": "code",
      "source": [
        "cm = confusion_matrix(y_test, y_pred)"
      ],
      "metadata": {
        "id": "Fvgcg2F1nJOe"
      },
      "execution_count": 59,
      "outputs": []
    },
    {
      "cell_type": "code",
      "source": [
        "sns.heatmap(cm)\n",
        "plt.show()"
      ],
      "metadata": {
        "colab": {
          "base_uri": "https://localhost:8080/",
          "height": 435
        },
        "id": "r-kIeKSLnLnJ",
        "outputId": "3c0fa87c-9aba-473d-ce8d-97d824848701"
      },
      "execution_count": 60,
      "outputs": [
        {
          "output_type": "display_data",
          "data": {
            "text/plain": [
              "<Figure size 640x480 with 2 Axes>"
            ],
            "image/png": "[encoded data removed]"
          },
          "metadata": {}
        }
      ]
    },
    {
      "cell_type": "code",
      "source": [],
      "metadata": {
        "id": "teq51qqUnQac"
      },
      "execution_count": null,
      "outputs": []
    }
  ]
}