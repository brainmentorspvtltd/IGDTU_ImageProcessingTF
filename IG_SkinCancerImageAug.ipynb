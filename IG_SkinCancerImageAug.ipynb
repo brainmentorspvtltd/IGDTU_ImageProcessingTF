{
  "nbformat": 4,
  "nbformat_minor": 0,
  "metadata": {
    "colab": {
      "provenance": [],
      "gpuType": "T4",
      "authorship_tag": "ABX9TyPNsywa9nRUHwx3GDNIaYVJ",
      "include_colab_link": true
    },
    "kernelspec": {
      "name": "python3",
      "display_name": "Python 3"
    },
    "language_info": {
      "name": "python"
    },
    "accelerator": "GPU"
  },
  "cells": [
    {
      "cell_type": "markdown",
      "metadata": {
        "id": "view-in-github",
        "colab_type": "text"
      },
      "source": [
        "<a href=\"https://colab.research.google.com/github/brainmentorspvtltd/IGDTU_ImageProcessingTF/blob/main/IG_SkinCancerImageAug.ipynb\" target=\"_parent\"><img src=\"https://colab.research.google.com/assets/colab-badge.svg\" alt=\"Open In Colab\"/></a>"
      ]
    },
    {
      "cell_type": "code",
      "execution_count": null,
      "metadata": {
        "colab": {
          "base_uri": "https://localhost:8080/"
        },
        "id": "X-cfQohPUw6W",
        "outputId": "866da487-b8b5-4cc2-fd4d-c982548c5aad"
      },
      "outputs": [
        {
          "output_type": "stream",
          "name": "stdout",
          "text": [
            "Downloading skin-cancer9-classesisic.zip to /content\n",
            "100% 784M/786M [00:37<00:00, 23.7MB/s]\n",
            "100% 786M/786M [00:37<00:00, 21.7MB/s]\n"
          ]
        }
      ],
      "source": [
        "import os\n",
        "\n",
        "os.environ[\"KAGGLE_USERNAME\"] = \"ravikanttyagi\"\n",
        "os.environ[\"KAGGLE_KEY\"] = \"095a21c789eb4728fde2b29230033273\"\n",
        "\n",
        "!kaggle datasets download nodoubttome/skin-cancer9-classesisic"
      ]
    },
    {
      "cell_type": "code",
      "source": [
        "from IPython.display import clear_output\n",
        "\n",
        "!unzip skin-cancer9-classesisic.zip\n",
        "\n",
        "clear_output()"
      ],
      "metadata": {
        "id": "1m89wxkgU5X0"
      },
      "execution_count": null,
      "outputs": []
    },
    {
      "cell_type": "code",
      "source": [
        "import numpy as np\n",
        "import cv2\n",
        "import matplotlib.pyplot as plt\n",
        "from tqdm import tqdm\n",
        "import os\n",
        "import tensorflow as tf\n",
        "from tensorflow.keras.layers import Conv2D, MaxPool2D, Dense, Flatten\n",
        "from tensorflow.keras.layers import LeakyReLU, Dropout, BatchNormalization\n",
        "from tensorflow.keras.models import Model, Sequential\n",
        "from tensorflow.keras.preprocessing.image import ImageDataGenerator"
      ],
      "metadata": {
        "id": "7yetBp4bVICC"
      },
      "execution_count": null,
      "outputs": []
    },
    {
      "cell_type": "code",
      "source": [
        "train_path = \"dataset/Train\"\n",
        "test_path = \"dataset/Test\""
      ],
      "metadata": {
        "id": "3v1Cl9q8VrMT"
      },
      "execution_count": null,
      "outputs": []
    },
    {
      "cell_type": "code",
      "source": [
        "class_names = os.listdir(train_path)"
      ],
      "metadata": {
        "id": "Ke3tORwMVt22"
      },
      "execution_count": null,
      "outputs": []
    },
    {
      "cell_type": "code",
      "source": [
        "class_names"
      ],
      "metadata": {
        "colab": {
          "base_uri": "https://localhost:8080/"
        },
        "id": "U8tHmUs5Vu-V",
        "outputId": "27d3414c-4e1f-4d9a-da01-a893796bbf59"
      },
      "execution_count": null,
      "outputs": [
        {
          "output_type": "execute_result",
          "data": {
            "text/plain": [
              "['melanoma',\n",
              " 'seborrheic keratosis',\n",
              " 'dermatofibroma',\n",
              " 'squamous cell carcinoma',\n",
              " 'nevus',\n",
              " 'vascular lesion',\n",
              " 'actinic keratosis',\n",
              " 'basal cell carcinoma',\n",
              " 'pigmented benign keratosis']"
            ]
          },
          "metadata": {},
          "execution_count": 6
        }
      ]
    },
    {
      "cell_type": "code",
      "source": [
        "for name in class_names:\n",
        "  path = train_path + \"/\" + name\n",
        "  n_images = len(os.listdir(path))\n",
        "  print(name, \" : \", n_images)"
      ],
      "metadata": {
        "colab": {
          "base_uri": "https://localhost:8080/"
        },
        "id": "4jvvm-3RVwDx",
        "outputId": "14c5dc2e-4bf5-4a4b-a263-d2deb88a95e5"
      },
      "execution_count": null,
      "outputs": [
        {
          "output_type": "stream",
          "name": "stdout",
          "text": [
            "melanoma  :  438\n",
            "seborrheic keratosis  :  77\n",
            "dermatofibroma  :  95\n",
            "squamous cell carcinoma  :  181\n",
            "nevus  :  357\n",
            "vascular lesion  :  139\n",
            "actinic keratosis  :  114\n",
            "basal cell carcinoma  :  376\n",
            "pigmented benign keratosis  :  462\n"
          ]
        }
      ]
    },
    {
      "cell_type": "code",
      "source": [
        "for name in class_names:\n",
        "  path = test_path + \"/\" + name\n",
        "  n_images = len(os.listdir(path))\n",
        "  print(name, \" : \", n_images)"
      ],
      "metadata": {
        "colab": {
          "base_uri": "https://localhost:8080/"
        },
        "id": "RgO6DDZsVxrQ",
        "outputId": "ee5bff63-452c-455d-99b0-5a5c2893eca2"
      },
      "execution_count": null,
      "outputs": [
        {
          "output_type": "stream",
          "name": "stdout",
          "text": [
            "melanoma  :  16\n",
            "seborrheic keratosis  :  3\n",
            "dermatofibroma  :  16\n",
            "squamous cell carcinoma  :  16\n",
            "nevus  :  16\n",
            "vascular lesion  :  3\n",
            "actinic keratosis  :  16\n",
            "basal cell carcinoma  :  16\n",
            "pigmented benign keratosis  :  16\n"
          ]
        }
      ]
    },
    {
      "cell_type": "code",
      "source": [
        "# Pre-processing of images\n",
        "image_data_gen = ImageDataGenerator(horizontal_flip=True,\n",
        "                                    shear_range=0.2,\n",
        "                                    zoom_range=0.2,\n",
        "                                    rescale=1/255.,\n",
        "                                    rotation_range=30,\n",
        "                                    vertical_flip=True\n",
        "                                    )"
      ],
      "metadata": {
        "id": "pI2u8hQSVzDj"
      },
      "execution_count": null,
      "outputs": []
    },
    {
      "cell_type": "code",
      "source": [
        "X_train = image_data_gen.flow_from_directory(train_path, target_size=(224,224), batch_size=4, class_mode=\"sparse\")"
      ],
      "metadata": {
        "colab": {
          "base_uri": "https://localhost:8080/"
        },
        "id": "zub1EVMAWUmU",
        "outputId": "13dd64df-aebc-4a55-b4b3-88025db46abc"
      },
      "execution_count": null,
      "outputs": [
        {
          "output_type": "stream",
          "name": "stdout",
          "text": [
            "Found 2239 images belonging to 9 classes.\n"
          ]
        }
      ]
    },
    {
      "cell_type": "code",
      "source": [
        "X_val = image_data_gen.flow_from_directory(test_path, target_size=(224,224), batch_size=4, class_mode=\"sparse\")"
      ],
      "metadata": {
        "colab": {
          "base_uri": "https://localhost:8080/"
        },
        "id": "axOpkiIRWsOT",
        "outputId": "1f8d9739-01c6-43aa-8bb3-942c86be1283"
      },
      "execution_count": null,
      "outputs": [
        {
          "output_type": "stream",
          "name": "stdout",
          "text": [
            "Found 118 images belonging to 9 classes.\n"
          ]
        }
      ]
    },
    {
      "cell_type": "code",
      "source": [
        "model = Sequential()\n",
        "model.add(Conv2D(128, (3,3), input_shape=(224,224,3), activation=\"relu\"))\n",
        "model.add(Conv2D(128, (3,3), activation=\"relu\"))\n",
        "model.add(MaxPool2D(pool_size=(2,2)))\n",
        "model.add(Conv2D(64, (3,3), activation=\"relu\"))\n",
        "model.add(Conv2D(64, (3,3), activation=\"relu\"))\n",
        "model.add(MaxPool2D(pool_size=(2,2)))\n",
        "model.add(Conv2D(32, (3,3), activation=\"relu\"))\n",
        "model.add(Conv2D(32, (3,3), activation=\"relu\"))\n",
        "model.add(MaxPool2D(pool_size=(2,2)))\n",
        "model.add(Flatten())\n",
        "model.add(Dense(1024, activation=LeakyReLU(0.1)))\n",
        "model.add(Dropout(0.3))\n",
        "model.add(BatchNormalization())\n",
        "model.add(Dense(512, activation=LeakyReLU(0.1)))\n",
        "model.add(Dropout(0.3))\n",
        "model.add(BatchNormalization())\n",
        "model.add(Dense(256, activation=LeakyReLU(0.1)))\n",
        "model.add(Dropout(0.3))\n",
        "model.add(BatchNormalization())\n",
        "model.add(Dense(128, activation=LeakyReLU(0.1)))\n",
        "model.add(Dense(9, activation=\"sigmoid\"))"
      ],
      "metadata": {
        "id": "h7nlsyOFWxV_"
      },
      "execution_count": null,
      "outputs": []
    },
    {
      "cell_type": "code",
      "source": [
        "model.summary()"
      ],
      "metadata": {
        "colab": {
          "base_uri": "https://localhost:8080/"
        },
        "id": "Nc-WPytuY87Q",
        "outputId": "66f9300b-f4ac-43df-81cc-ef582a1c7fe6"
      },
      "execution_count": null,
      "outputs": [
        {
          "output_type": "stream",
          "name": "stdout",
          "text": [
            "Model: \"sequential_6\"\n",
            "_________________________________________________________________\n",
            " Layer (type)                Output Shape              Param #   \n",
            "=================================================================\n",
            " conv2d_36 (Conv2D)          (None, 222, 222, 128)     3584      \n",
            "                                                                 \n",
            " conv2d_37 (Conv2D)          (None, 220, 220, 128)     147584    \n",
            "                                                                 \n",
            " max_pooling2d_18 (MaxPoolin  (None, 110, 110, 128)    0         \n",
            " g2D)                                                            \n",
            "                                                                 \n",
            " conv2d_38 (Conv2D)          (None, 108, 108, 64)      73792     \n",
            "                                                                 \n",
            " conv2d_39 (Conv2D)          (None, 106, 106, 64)      36928     \n",
            "                                                                 \n",
            " max_pooling2d_19 (MaxPoolin  (None, 53, 53, 64)       0         \n",
            " g2D)                                                            \n",
            "                                                                 \n",
            " conv2d_40 (Conv2D)          (None, 51, 51, 32)        18464     \n",
            "                                                                 \n",
            " conv2d_41 (Conv2D)          (None, 49, 49, 32)        9248      \n",
            "                                                                 \n",
            " max_pooling2d_20 (MaxPoolin  (None, 24, 24, 32)       0         \n",
            " g2D)                                                            \n",
            "                                                                 \n",
            " flatten_6 (Flatten)         (None, 18432)             0         \n",
            "                                                                 \n",
            " dense_30 (Dense)            (None, 1024)              18875392  \n",
            "                                                                 \n",
            " dropout_18 (Dropout)        (None, 1024)              0         \n",
            "                                                                 \n",
            " batch_normalization_18 (Bat  (None, 1024)             4096      \n",
            " chNormalization)                                                \n",
            "                                                                 \n",
            " dense_31 (Dense)            (None, 512)               524800    \n",
            "                                                                 \n",
            " dropout_19 (Dropout)        (None, 512)               0         \n",
            "                                                                 \n",
            " batch_normalization_19 (Bat  (None, 512)              2048      \n",
            " chNormalization)                                                \n",
            "                                                                 \n",
            " dense_32 (Dense)            (None, 256)               131328    \n",
            "                                                                 \n",
            " dropout_20 (Dropout)        (None, 256)               0         \n",
            "                                                                 \n",
            " batch_normalization_20 (Bat  (None, 256)              1024      \n",
            " chNormalization)                                                \n",
            "                                                                 \n",
            " dense_33 (Dense)            (None, 128)               32896     \n",
            "                                                                 \n",
            " dense_34 (Dense)            (None, 9)                 1161      \n",
            "                                                                 \n",
            "=================================================================\n",
            "Total params: 19,862,345\n",
            "Trainable params: 19,858,761\n",
            "Non-trainable params: 3,584\n",
            "_________________________________________________________________\n"
          ]
        }
      ]
    },
    {
      "cell_type": "code",
      "source": [
        "model.compile(optimizer=tf.keras.optimizers.Adam(),\n",
        "              loss=tf.keras.losses.SparseCategoricalCrossentropy(),\n",
        "              metrics=['acc'])\n",
        "\n",
        "history = model.fit(X_train, epochs=10, validation_data=X_val)"
      ],
      "metadata": {
        "colab": {
          "base_uri": "https://localhost:8080/"
        },
        "id": "3RnttvFXY-pN",
        "outputId": "0b912374-e1b2-469b-f708-8753af672f14"
      },
      "execution_count": null,
      "outputs": [
        {
          "output_type": "stream",
          "name": "stdout",
          "text": [
            "Epoch 1/10\n",
            "560/560 [==============================] - 200s 152ms/step - loss: 2.2967 - acc: 0.2028 - val_loss: 2.3411 - val_acc: 0.1186\n",
            "Epoch 2/10\n",
            "560/560 [==============================] - 82s 146ms/step - loss: 2.1164 - acc: 0.2197 - val_loss: 2.1463 - val_acc: 0.2458\n",
            "Epoch 3/10\n",
            "560/560 [==============================] - 81s 145ms/step - loss: 2.0245 - acc: 0.2389 - val_loss: 3.2025 - val_acc: 0.1441\n",
            "Epoch 4/10\n",
            "560/560 [==============================] - 82s 147ms/step - loss: 1.9753 - acc: 0.2653 - val_loss: 3.1795 - val_acc: 0.0424\n",
            "Epoch 5/10\n",
            "560/560 [==============================] - 92s 165ms/step - loss: 1.8470 - acc: 0.3193 - val_loss: 2.5240 - val_acc: 0.0847\n",
            "Epoch 6/10\n",
            "560/560 [==============================] - 83s 148ms/step - loss: 1.8465 - acc: 0.3024 - val_loss: 4.7716 - val_acc: 0.1441\n",
            "Epoch 7/10\n",
            "560/560 [==============================] - 83s 147ms/step - loss: 1.8017 - acc: 0.3421 - val_loss: 2.5522 - val_acc: 0.1610\n",
            "Epoch 8/10\n",
            "560/560 [==============================] - 82s 146ms/step - loss: 1.7839 - acc: 0.3555 - val_loss: 2.4516 - val_acc: 0.2542\n",
            "Epoch 9/10\n",
            "560/560 [==============================] - 83s 149ms/step - loss: 1.7608 - acc: 0.3595 - val_loss: 2.2558 - val_acc: 0.2203\n",
            "Epoch 10/10\n",
            "560/560 [==============================] - 92s 165ms/step - loss: 1.7800 - acc: 0.3569 - val_loss: 2.4520 - val_acc: 0.1864\n"
          ]
        }
      ]
    },
    {
      "cell_type": "code",
      "source": [],
      "metadata": {
        "id": "2rkAZs9LZwZB"
      },
      "execution_count": null,
      "outputs": []
    },
    {
      "cell_type": "code",
      "source": [],
      "metadata": {
        "id": "Z2v8bfZnau1T"
      },
      "execution_count": null,
      "outputs": []
    }
  ]
}