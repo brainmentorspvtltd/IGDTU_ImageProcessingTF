{
  "nbformat": 4,
  "nbformat_minor": 0,
  "metadata": {
    "colab": {
      "provenance": [],
      "gpuType": "T4",
      "authorship_tag": "ABX9TyP2HOMwoH2mCXW3oa7bCahX",
      "include_colab_link": true
    },
    "kernelspec": {
      "name": "python3",
      "display_name": "Python 3"
    },
    "language_info": {
      "name": "python"
    },
    "accelerator": "GPU"
  },
  "cells": [
    {
      "cell_type": "markdown",
      "metadata": {
        "id": "view-in-github",
        "colab_type": "text"
      },
      "source": [
        "<a href=\"https://colab.research.google.com/github/brainmentorspvtltd/IGDTU_ImageProcessingTF/blob/main/IG_Siamese.ipynb\" target=\"_parent\"><img src=\"https://colab.research.google.com/assets/colab-badge.svg\" alt=\"Open In Colab\"/></a>"
      ]
    },
    {
      "cell_type": "code",
      "execution_count": 1,
      "metadata": {
        "id": "UiSJVMIH1wU1"
      },
      "outputs": [],
      "source": [
        "import tensorflow as tf\n",
        "import numpy as np\n",
        "import matplotlib.pyplot as plt\n",
        "from tensorflow.keras.models import Model, Sequential\n",
        "from tensorflow.keras.layers import Input, Conv2D, Flatten, MaxPool2D, Dense, Dropout, Lambda\n",
        "from keras import backend as K"
      ]
    },
    {
      "cell_type": "code",
      "source": [
        "from tensorflow.keras.datasets import mnist"
      ],
      "metadata": {
        "id": "_SS_V8PD2gvi"
      },
      "execution_count": 2,
      "outputs": []
    },
    {
      "cell_type": "code",
      "source": [
        "(x_train, y_train), (x_test, y_test) = mnist.load_data()"
      ],
      "metadata": {
        "colab": {
          "base_uri": "https://localhost:8080/"
        },
        "id": "B0OFU2rs2yfK",
        "outputId": "4c65f246-ba0a-4292-892c-eb9eca67f285"
      },
      "execution_count": 3,
      "outputs": [
        {
          "output_type": "stream",
          "name": "stdout",
          "text": [
            "Downloading data from https://storage.googleapis.com/tensorflow/tf-keras-datasets/mnist.npz\n",
            "11490434/11490434 [==============================] - 0s 0us/step\n"
          ]
        }
      ]
    },
    {
      "cell_type": "code",
      "source": [
        "x_train.shape"
      ],
      "metadata": {
        "colab": {
          "base_uri": "https://localhost:8080/"
        },
        "id": "mt923M474BjN",
        "outputId": "2bcde047-1bc3-4403-a232-3f45b3add87f"
      },
      "execution_count": 4,
      "outputs": [
        {
          "output_type": "execute_result",
          "data": {
            "text/plain": [
              "(60000, 28, 28)"
            ]
          },
          "metadata": {},
          "execution_count": 4
        }
      ]
    },
    {
      "cell_type": "code",
      "source": [
        "x_test.shape"
      ],
      "metadata": {
        "colab": {
          "base_uri": "https://localhost:8080/"
        },
        "id": "6h8mPbuX4EmR",
        "outputId": "d22f9fb2-9536-407e-934b-8c1488f749de"
      },
      "execution_count": 5,
      "outputs": [
        {
          "output_type": "execute_result",
          "data": {
            "text/plain": [
              "(10000, 28, 28)"
            ]
          },
          "metadata": {},
          "execution_count": 5
        }
      ]
    },
    {
      "cell_type": "code",
      "source": [
        "y_train[0]"
      ],
      "metadata": {
        "colab": {
          "base_uri": "https://localhost:8080/"
        },
        "id": "PP8THr3948t8",
        "outputId": "284f8f80-0109-431e-aaee-e7ee32ca911a"
      },
      "execution_count": 6,
      "outputs": [
        {
          "output_type": "execute_result",
          "data": {
            "text/plain": [
              "5"
            ]
          },
          "metadata": {},
          "execution_count": 6
        }
      ]
    },
    {
      "cell_type": "code",
      "source": [
        "plt.imshow(x_train[0])\n",
        "plt.show()"
      ],
      "metadata": {
        "colab": {
          "base_uri": "https://localhost:8080/",
          "height": 430
        },
        "id": "6JxJe_i748le",
        "outputId": "60cd04a4-3719-43b5-a154-36d62e3957c1"
      },
      "execution_count": 7,
      "outputs": [
        {
          "output_type": "display_data",
          "data": {
            "text/plain": [
              "<Figure size 640x480 with 1 Axes>"
            ],
            "image/png": "[encoded data removed]"
          },
          "metadata": {}
        }
      ]
    },
    {
      "cell_type": "code",
      "source": [
        "def showImages(X, y=None, index=100, numImg = 4):\n",
        "  for i in range(numImg):\n",
        "    fig = plt.subplot(4, 4, i+1)\n",
        "    fig.axis(\"off\")\n",
        "    plt.imshow(X[index+i], cmap=\"Greys\")\n",
        "    plt.title(y[index+i])\n",
        "  plt.show()"
      ],
      "metadata": {
        "id": "3epZicfb4Hb1"
      },
      "execution_count": 8,
      "outputs": []
    },
    {
      "cell_type": "code",
      "source": [
        "showImages(x_train, y_train, index=1000, numImg=8)"
      ],
      "metadata": {
        "colab": {
          "base_uri": "https://localhost:8080/",
          "height": 236
        },
        "id": "f4oEWKim4zYI",
        "outputId": "a728d1f4-4d5b-4704-ded4-f2227b651654"
      },
      "execution_count": 9,
      "outputs": [
        {
          "output_type": "display_data",
          "data": {
            "text/plain": [
              "<Figure size 640x480 with 8 Axes>"
            ],
            "image/png": "[encoded data removed]"
          },
          "metadata": {}
        }
      ]
    },
    {
      "cell_type": "code",
      "source": [
        "index = [np.where(y_train == i)[0] for i in range(10)]"
      ],
      "metadata": {
        "id": "4UyBcyb06-_A"
      },
      "execution_count": 10,
      "outputs": []
    },
    {
      "cell_type": "code",
      "source": [
        "index"
      ],
      "metadata": {
        "colab": {
          "base_uri": "https://localhost:8080/"
        },
        "id": "yhmE10hH6-0J",
        "outputId": "db3bfc28-cdda-45fe-8639-4d8d6d49bab5"
      },
      "execution_count": 11,
      "outputs": [
        {
          "output_type": "execute_result",
          "data": {
            "text/plain": [
              "[array([    1,    21,    34, ..., 59952, 59972, 59987]),\n",
              " array([    3,     6,     8, ..., 59979, 59984, 59994]),\n",
              " array([    5,    16,    25, ..., 59983, 59985, 59991]),\n",
              " array([    7,    10,    12, ..., 59978, 59980, 59996]),\n",
              " array([    2,     9,    20, ..., 59943, 59951, 59975]),\n",
              " array([    0,    11,    35, ..., 59968, 59993, 59997]),\n",
              " array([   13,    18,    32, ..., 59982, 59986, 59998]),\n",
              " array([   15,    29,    38, ..., 59963, 59977, 59988]),\n",
              " array([   17,    31,    41, ..., 59989, 59995, 59999]),\n",
              " array([    4,    19,    22, ..., 59973, 59990, 59992])]"
            ]
          },
          "metadata": {},
          "execution_count": 11
        }
      ]
    },
    {
      "cell_type": "code",
      "source": [
        "def showPair(X, y, image):\n",
        "  subplot = plt.subplot(1,2,1)\n",
        "  plt.imshow(X[image][0])\n",
        "  subplot.axis(\"off\")\n",
        "  subplot = plt.subplot(1,2,2)\n",
        "  subplot.axis(\"off\")\n",
        "  plt.imshow(X[image][1])\n",
        "  plt.title(y[image])\n",
        "  plt.show()"
      ],
      "metadata": {
        "id": "2VglXKvY8_Bq"
      },
      "execution_count": 12,
      "outputs": []
    },
    {
      "cell_type": "code",
      "source": [
        "# Create Pairs - we need to pass a pair of objects\n",
        "# and a label indicating that objects are equal or not\n",
        "\n",
        "# min_pairs - how many equal pairs as min we want in the dataset\n",
        "def create_pairs(X, y, min_pairs=2000):\n",
        "  pairs = []\n",
        "  labels = []\n",
        "  equal_items = 0\n",
        "  # we have 10 classes\n",
        "  # index[1] - all positions with values equals to 1\n",
        "  # index[2] - all positions with values equals to 2\n",
        "  index = [np.where(y == i)[0] for i in range(10)]\n",
        "\n",
        "  for item in range(len(X)):\n",
        "    if equal_items < min_pairs:\n",
        "      random_index = np.random.randint(len(index[y[item]]))\n",
        "      num_pairs = index[y[item]][random_index]\n",
        "      equal_items += 1\n",
        "    else:\n",
        "      num_pairs = np.random.randint(len(X))\n",
        "\n",
        "    labels += [y[item] == y[num_pairs]]\n",
        "    pairs += [[X[item], X[num_pairs]]]\n",
        "\n",
        "  return np.array(pairs), np.array(labels).astype(\"float32\")"
      ],
      "metadata": {
        "id": "BdZiYp475KoO"
      },
      "execution_count": 13,
      "outputs": []
    },
    {
      "cell_type": "code",
      "source": [
        "train_pairs, train_labels = create_pairs(x_train, y_train)\n",
        "test_pairs, test_labels = create_pairs(x_test, y_test)"
      ],
      "metadata": {
        "id": "K_rB_kKt8itm"
      },
      "execution_count": 14,
      "outputs": []
    },
    {
      "cell_type": "code",
      "source": [
        "train_pairs.shape"
      ],
      "metadata": {
        "colab": {
          "base_uri": "https://localhost:8080/"
        },
        "id": "7FabxuzV8wsu",
        "outputId": "e514fea9-5ea9-409e-f2fc-b876d9bf61b2"
      },
      "execution_count": 15,
      "outputs": [
        {
          "output_type": "execute_result",
          "data": {
            "text/plain": [
              "(60000, 2, 28, 28)"
            ]
          },
          "metadata": {},
          "execution_count": 15
        }
      ]
    },
    {
      "cell_type": "code",
      "source": [
        "train_labels.shape"
      ],
      "metadata": {
        "colab": {
          "base_uri": "https://localhost:8080/"
        },
        "id": "QbgUTzCP-K2_",
        "outputId": "d3069a7f-046a-4f46-ae49-42d367b01c0d"
      },
      "execution_count": 16,
      "outputs": [
        {
          "output_type": "execute_result",
          "data": {
            "text/plain": [
              "(60000,)"
            ]
          },
          "metadata": {},
          "execution_count": 16
        }
      ]
    },
    {
      "cell_type": "code",
      "source": [
        "train_labels[0]"
      ],
      "metadata": {
        "colab": {
          "base_uri": "https://localhost:8080/"
        },
        "id": "y1FyfqID-Qkc",
        "outputId": "18de8c13-be4a-40f7-9808-90bbe957fa56"
      },
      "execution_count": 17,
      "outputs": [
        {
          "output_type": "execute_result",
          "data": {
            "text/plain": [
              "1.0"
            ]
          },
          "metadata": {},
          "execution_count": 17
        }
      ]
    },
    {
      "cell_type": "code",
      "source": [
        "showPair(train_pairs, train_labels, 1343)"
      ],
      "metadata": {
        "colab": {
          "base_uri": "https://localhost:8080/",
          "height": 284
        },
        "id": "fuduNGe5859a",
        "outputId": "f35d01d5-e12e-423f-a102-35dcc5d4241b"
      },
      "execution_count": 18,
      "outputs": [
        {
          "output_type": "display_data",
          "data": {
            "text/plain": [
              "<Figure size 640x480 with 2 Axes>"
            ],
            "image/png": "[encoded data removed]"
          },
          "metadata": {}
        }
      ]
    },
    {
      "cell_type": "code",
      "source": [
        "def init_base_model(input_shape=(28,28,1)):\n",
        "  model = Sequential()\n",
        "  model.add(Conv2D(32, (3,3), activation=\"relu\", input_shape=input_shape))\n",
        "  model.add(MaxPool2D(pool_size=(2,2)))\n",
        "  model.add(Conv2D(16, (3,3), activation=\"relu\"))\n",
        "  model.add(MaxPool2D(pool_size=(2,2)))\n",
        "  model.add(Flatten())\n",
        "  model.add(Dense(128, activation=\"relu\"))\n",
        "  model.add(Dense(64, activation=\"relu\"))\n",
        "  model.add(Dense(32, activation=\"relu\"))\n",
        "  return model"
      ],
      "metadata": {
        "id": "ibVn-AsF9are"
      },
      "execution_count": 36,
      "outputs": []
    },
    {
      "cell_type": "code",
      "source": [
        "base_model = init_base_model()"
      ],
      "metadata": {
        "id": "vil1MFJ-Myo2"
      },
      "execution_count": 37,
      "outputs": []
    },
    {
      "cell_type": "code",
      "source": [
        "input_layer_left = Input(shape=(28,28,1), name=\"left_input\")\n",
        "vec_output_left = base_model(input_layer_left)\n",
        "\n",
        "input_layer_right = Input(shape=(28,28,1), name=\"right_input\")\n",
        "vec_output_right = base_model(input_layer_right)"
      ],
      "metadata": {
        "id": "xDqYhc0UM6NW"
      },
      "execution_count": 38,
      "outputs": []
    },
    {
      "cell_type": "code",
      "source": [
        "# Loss Functions - Constrastive Loss / Triplet Loss\n",
        "def euclidean_distance(vectors):\n",
        "  x,y = vectors\n",
        "  sum_square = K.sum(K.square(x-y), axis=1, keepdims=True)\n",
        "  return K.sqrt(K.maximum(sum_square, K.epsilon()))\n",
        "\n",
        "def euclidean_distance_output_shape(shapes):\n",
        "  shape_1, shape_2 = shapes\n",
        "  return (shape_1[0], 1)\n",
        "\n",
        "def constrastiveLossWrapper(margin):\n",
        "  def contrastiveLoss(y_true, y_pred):\n",
        "    square_pred = K.square(y_pred)\n",
        "    margin_square = K.square(K.maximum(margin - y_pred, 0))\n",
        "    return (y_true * square_pred + (1 - y_true) * margin_square)\n",
        "  return contrastiveLoss"
      ],
      "metadata": {
        "id": "F9lg1TUPN6Ki"
      },
      "execution_count": 39,
      "outputs": []
    },
    {
      "cell_type": "code",
      "source": [
        "output = Lambda(euclidean_distance, name=\"output_layer\",\n",
        "                output_shape = euclidean_distance_output_shape)([vec_output_left, vec_output_right])\n",
        "\n",
        "model = Model(inputs = [input_layer_left, input_layer_right], outputs = output)"
      ],
      "metadata": {
        "id": "gvcrBt1mTeja"
      },
      "execution_count": 40,
      "outputs": []
    },
    {
      "cell_type": "code",
      "source": [
        "tf.keras.utils.plot_model(model, show_shapes=True)"
      ],
      "metadata": {
        "colab": {
          "base_uri": "https://localhost:8080/",
          "height": 312
        },
        "id": "TI_aUiXkU8TG",
        "outputId": "8fda4bc9-4f0e-43c9-eff2-4527ea229712"
      },
      "execution_count": 41,
      "outputs": [
        {
          "output_type": "execute_result",
          "data": {
            "image/png": "[encoded data removed]",
            "text/plain": [
              "<IPython.core.display.Image object>"
            ]
          },
          "metadata": {},
          "execution_count": 41
        }
      ]
    },
    {
      "cell_type": "code",
      "source": [
        "# def calc_acc(pred, labels):\n",
        "#   return labels[pred.ravel() < 0.5].mean()\n",
        "\n",
        "# with a difference less than 0.5 the pair images are same\n",
        "def accuracy(y_true, y_pred):\n",
        "  return K.mean(K.equal(y_true, K.cast(y_pred < 0.5, y_true.dtype)))\n",
        "\n",
        "optimizer = tf.keras.optimizers.RMSprop()\n",
        "model.compile(loss = constrastiveLossWrapper(margin=1),\n",
        "              optimizer=optimizer, metrics=[accuracy])\n",
        "\n",
        "history = model.fit([train_pairs[:,0], train_pairs[:,1]], train_labels, epochs=5,\n",
        "                    batch_size = 32, validation_data=([test_pairs[:,0], test_pairs[:,1]], test_labels))"
      ],
      "metadata": {
        "colab": {
          "base_uri": "https://localhost:8080/"
        },
        "id": "f4VZiJT_VDqy",
        "outputId": "650bf069-df24-42b7-ab85-9f8a214f9998"
      },
      "execution_count": 42,
      "outputs": [
        {
          "output_type": "stream",
          "name": "stdout",
          "text": [
            "Epoch 1/5\n",
            "1875/1875 [==============================] - 12s 5ms/step - loss: 0.5075 - accuracy: 0.9008 - val_loss: 0.0618 - val_accuracy: 0.9264\n",
            "Epoch 2/5\n",
            "1875/1875 [==============================] - 10s 5ms/step - loss: 0.0266 - accuracy: 0.9708 - val_loss: 0.0433 - val_accuracy: 0.9557\n",
            "Epoch 3/5\n",
            "1875/1875 [==============================] - 10s 5ms/step - loss: 0.0165 - accuracy: 0.9828 - val_loss: 0.0384 - val_accuracy: 0.9589\n",
            "Epoch 4/5\n",
            "1875/1875 [==============================] - 10s 5ms/step - loss: 0.0129 - accuracy: 0.9865 - val_loss: 0.0324 - val_accuracy: 0.9657\n",
            "Epoch 5/5\n",
            "1875/1875 [==============================] - 10s 5ms/step - loss: 0.0109 - accuracy: 0.9885 - val_loss: 0.0257 - val_accuracy: 0.9714\n"
          ]
        }
      ]
    },
    {
      "cell_type": "code",
      "source": [
        "plt.plot(history.history['accuracy'], label=\"Train Accuracy\")\n",
        "plt.plot(history.history['val_accuracy'], label=\"Val Accuracy\")\n",
        "plt.legend()\n",
        "plt.show()"
      ],
      "metadata": {
        "colab": {
          "base_uri": "https://localhost:8080/",
          "height": 430
        },
        "id": "COpR-UF0XgYB",
        "outputId": "8d69e741-a676-4ddd-a0a7-29384a4b091e"
      },
      "execution_count": 43,
      "outputs": [
        {
          "output_type": "display_data",
          "data": {
            "text/plain": [
              "<Figure size 640x480 with 1 Axes>"
            ],
            "image/png": "[encoded data removed]"
          },
          "metadata": {}
        }
      ]
    },
    {
      "cell_type": "code",
      "source": [
        "plt.plot(history.history['loss'], label=\"Train Loss\")\n",
        "plt.plot(history.history['val_loss'], label=\"Val Loss\")\n",
        "plt.legend()\n",
        "plt.show()"
      ],
      "metadata": {
        "colab": {
          "base_uri": "https://localhost:8080/",
          "height": 430
        },
        "id": "85C5PFKuZ4tK",
        "outputId": "03fda38a-0747-4d49-9b15-0f90e0791877"
      },
      "execution_count": 44,
      "outputs": [
        {
          "output_type": "display_data",
          "data": {
            "text/plain": [
              "<Figure size 640x480 with 1 Axes>"
            ],
            "image/png": "[encoded data removed]"
          },
          "metadata": {}
        }
      ]
    },
    {
      "cell_type": "code",
      "source": [
        "y_pred_test = model.predict([test_pairs[:,0], test_pairs[:,1]])"
      ],
      "metadata": {
        "colab": {
          "base_uri": "https://localhost:8080/"
        },
        "id": "AdFOcx1lazCT",
        "outputId": "8b4f332a-1de2-4d9f-97b8-2463de83483d"
      },
      "execution_count": 48,
      "outputs": [
        {
          "output_type": "stream",
          "name": "stdout",
          "text": [
            "313/313 [==============================] - 1s 2ms/step\n"
          ]
        }
      ]
    },
    {
      "cell_type": "code",
      "source": [
        "y_pred_test[0]"
      ],
      "metadata": {
        "colab": {
          "base_uri": "https://localhost:8080/"
        },
        "id": "ZarADbHdbSIK",
        "outputId": "49d3443b-cad3-41bc-9ccc-bc9379e7abf8"
      },
      "execution_count": 54,
      "outputs": [
        {
          "output_type": "execute_result",
          "data": {
            "text/plain": [
              "array([0.06727626], dtype=float32)"
            ]
          },
          "metadata": {},
          "execution_count": 54
        }
      ]
    },
    {
      "cell_type": "code",
      "source": [
        "def visualize_results(left, right, pred):\n",
        "  subplot = plt.subplot(1,2,1)\n",
        "  plt.imshow(left)\n",
        "  subplot.axis(\"off\")\n",
        "  subplot = plt.subplot(1,2,2)\n",
        "  subplot.axis(\"off\")\n",
        "  plt.title(pred)\n",
        "  plt.imshow(right)\n",
        "  plt.show()"
      ],
      "metadata": {
        "id": "yRrAQZPXaAwc"
      },
      "execution_count": 60,
      "outputs": []
    },
    {
      "cell_type": "code",
      "source": [
        "visualize_results(test_pairs[:, 0][-2], test_pairs[:, 1][-2], y_pred_test[-2])"
      ],
      "metadata": {
        "colab": {
          "base_uri": "https://localhost:8080/",
          "height": 284
        },
        "id": "WQSzwd1Zanyd",
        "outputId": "51c83afa-93d0-4181-e618-b0d8ec05ee4f"
      },
      "execution_count": 74,
      "outputs": [
        {
          "output_type": "display_data",
          "data": {
            "text/plain": [
              "<Figure size 640x480 with 2 Axes>"
            ],
            "image/png": "[encoded data removed]"
          },
          "metadata": {}
        }
      ]
    },
    {
      "cell_type": "code",
      "source": [
        "np.unique(train_labels, return_counts=True)"
      ],
      "metadata": {
        "colab": {
          "base_uri": "https://localhost:8080/"
        },
        "id": "qRZPzePpbE86",
        "outputId": "92acdaa4-c49b-40df-c0b5-c5dd37f84a04"
      },
      "execution_count": 69,
      "outputs": [
        {
          "output_type": "execute_result",
          "data": {
            "text/plain": [
              "(array([0., 1.], dtype=float32), array([52219,  7781]))"
            ]
          },
          "metadata": {},
          "execution_count": 69
        }
      ]
    },
    {
      "cell_type": "code",
      "source": [
        "test_labels[-1:-10:-1]"
      ],
      "metadata": {
        "colab": {
          "base_uri": "https://localhost:8080/"
        },
        "id": "lGyJXMqQcMet",
        "outputId": "1216770a-0c00-42e0-a2e5-94bc19d60ec6"
      },
      "execution_count": 72,
      "outputs": [
        {
          "output_type": "execute_result",
          "data": {
            "text/plain": [
              "array([0., 0., 0., 0., 0., 0., 0., 0., 0.], dtype=float32)"
            ]
          },
          "metadata": {},
          "execution_count": 72
        }
      ]
    },
    {
      "cell_type": "code",
      "source": [],
      "metadata": {
        "id": "JDKlw4_wcezr"
      },
      "execution_count": null,
      "outputs": []
    }
  ]
}