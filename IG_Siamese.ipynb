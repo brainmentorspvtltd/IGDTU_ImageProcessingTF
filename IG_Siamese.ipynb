{
  "nbformat": 4,
  "nbformat_minor": 0,
  "metadata": {
    "colab": {
      "provenance": [],
      "authorship_tag": "ABX9TyOnX1QHD1TdYnYL2SXh11FI",
      "include_colab_link": true
    },
    "kernelspec": {
      "name": "python3",
      "display_name": "Python 3"
    },
    "language_info": {
      "name": "python"
    }
  },
  "cells": [
    {
      "cell_type": "markdown",
      "metadata": {
        "id": "view-in-github",
        "colab_type": "text"
      },
      "source": [
        "<a href=\"https://colab.research.google.com/github/brainmentorspvtltd/IGDTU_ImageProcessingTF/blob/main/IG_Siamese.ipynb\" target=\"_parent\"><img src=\"https://colab.research.google.com/assets/colab-badge.svg\" alt=\"Open In Colab\"/></a>"
      ]
    },
    {
      "cell_type": "code",
      "execution_count": 1,
      "metadata": {
        "id": "UiSJVMIH1wU1"
      },
      "outputs": [],
      "source": [
        "import tensorflow as tf\n",
        "import numpy as np\n",
        "import matplotlib.pyplot as plt\n",
        "from tensorflow.keras.models import Model\n",
        "from tensorflow.keras.layers import Input, Conv2D, Flatten, MaxPool2D, Dense, Dropout, Lambda"
      ]
    },
    {
      "cell_type": "code",
      "source": [
        "from tensorflow.keras.datasets import mnist"
      ],
      "metadata": {
        "id": "_SS_V8PD2gvi"
      },
      "execution_count": 2,
      "outputs": []
    },
    {
      "cell_type": "code",
      "source": [
        "(x_train, y_train), (x_test, y_test) = mnist.load_data()"
      ],
      "metadata": {
        "colab": {
          "base_uri": "https://localhost:8080/"
        },
        "id": "B0OFU2rs2yfK",
        "outputId": "80ac6cf8-af4c-4ddc-ac81-965e98bf9130"
      },
      "execution_count": 3,
      "outputs": [
        {
          "output_type": "stream",
          "name": "stdout",
          "text": [
            "Downloading data from https://storage.googleapis.com/tensorflow/tf-keras-datasets/mnist.npz\n",
            "11490434/11490434 [==============================] - 0s 0us/step\n"
          ]
        }
      ]
    },
    {
      "cell_type": "code",
      "source": [
        "x_train.shape"
      ],
      "metadata": {
        "colab": {
          "base_uri": "https://localhost:8080/"
        },
        "id": "mt923M474BjN",
        "outputId": "f766e46e-882e-4e78-d84c-db863e3997a5"
      },
      "execution_count": 4,
      "outputs": [
        {
          "output_type": "execute_result",
          "data": {
            "text/plain": [
              "(60000, 28, 28)"
            ]
          },
          "metadata": {},
          "execution_count": 4
        }
      ]
    },
    {
      "cell_type": "code",
      "source": [
        "x_test.shape"
      ],
      "metadata": {
        "colab": {
          "base_uri": "https://localhost:8080/"
        },
        "id": "6h8mPbuX4EmR",
        "outputId": "9a376ccd-453b-41aa-854b-4df9f12e8e92"
      },
      "execution_count": 5,
      "outputs": [
        {
          "output_type": "execute_result",
          "data": {
            "text/plain": [
              "(10000, 28, 28)"
            ]
          },
          "metadata": {},
          "execution_count": 5
        }
      ]
    },
    {
      "cell_type": "code",
      "source": [
        "y_train[0]"
      ],
      "metadata": {
        "colab": {
          "base_uri": "https://localhost:8080/"
        },
        "id": "PP8THr3948t8",
        "outputId": "22c3206b-f873-4ef0-9694-3fc9addd31a9"
      },
      "execution_count": 7,
      "outputs": [
        {
          "output_type": "execute_result",
          "data": {
            "text/plain": [
              "5"
            ]
          },
          "metadata": {},
          "execution_count": 7
        }
      ]
    },
    {
      "cell_type": "code",
      "source": [
        "plt.imshow(x_train[0])\n",
        "plt.show()"
      ],
      "metadata": {
        "colab": {
          "base_uri": "https://localhost:8080/",
          "height": 430
        },
        "id": "6JxJe_i748le",
        "outputId": "4ddaae28-da72-45c8-bdd3-67984bc43093"
      },
      "execution_count": 8,
      "outputs": [
        {
          "output_type": "display_data",
          "data": {
            "text/plain": [
              "<Figure size 640x480 with 1 Axes>"
            ],
            "image/png": "[encoded data removed]"
          },
          "metadata": {}
        }
      ]
    },
    {
      "cell_type": "code",
      "source": [
        "def showImages(X, y=None, index=100, numImg = 4):\n",
        "  for i in range(numImg):\n",
        "    fig = plt.subplot(4, 4, i+1)\n",
        "    fig.axis(\"off\")\n",
        "    plt.imshow(X[index+i], cmap=\"Greys\")\n",
        "    plt.title(y[index+i])\n",
        "  plt.show()"
      ],
      "metadata": {
        "id": "3epZicfb4Hb1"
      },
      "execution_count": 13,
      "outputs": []
    },
    {
      "cell_type": "code",
      "source": [
        "showImages(x_train, y_train, index=1000, numImg=8)"
      ],
      "metadata": {
        "colab": {
          "base_uri": "https://localhost:8080/",
          "height": 236
        },
        "id": "f4oEWKim4zYI",
        "outputId": "1750280b-af59-434b-ae35-1a406834ddce"
      },
      "execution_count": 14,
      "outputs": [
        {
          "output_type": "display_data",
          "data": {
            "text/plain": [
              "<Figure size 640x480 with 8 Axes>"
            ],
            "image/png": "[encoded data removed]"
          },
          "metadata": {}
        }
      ]
    },
    {
      "cell_type": "code",
      "source": [
        "index = [np.where(y_train == i)[0] for i in range(10)]"
      ],
      "metadata": {
        "id": "4UyBcyb06-_A"
      },
      "execution_count": 15,
      "outputs": []
    },
    {
      "cell_type": "code",
      "source": [
        "index"
      ],
      "metadata": {
        "colab": {
          "base_uri": "https://localhost:8080/"
        },
        "id": "yhmE10hH6-0J",
        "outputId": "f4718fc7-2e6d-42f3-f829-35bbc8fedbba"
      },
      "execution_count": 16,
      "outputs": [
        {
          "output_type": "execute_result",
          "data": {
            "text/plain": [
              "[array([    1,    21,    34, ..., 59952, 59972, 59987]),\n",
              " array([    3,     6,     8, ..., 59979, 59984, 59994]),\n",
              " array([    5,    16,    25, ..., 59983, 59985, 59991]),\n",
              " array([    7,    10,    12, ..., 59978, 59980, 59996]),\n",
              " array([    2,     9,    20, ..., 59943, 59951, 59975]),\n",
              " array([    0,    11,    35, ..., 59968, 59993, 59997]),\n",
              " array([   13,    18,    32, ..., 59982, 59986, 59998]),\n",
              " array([   15,    29,    38, ..., 59963, 59977, 59988]),\n",
              " array([   17,    31,    41, ..., 59989, 59995, 59999]),\n",
              " array([    4,    19,    22, ..., 59973, 59990, 59992])]"
            ]
          },
          "metadata": {},
          "execution_count": 16
        }
      ]
    },
    {
      "cell_type": "code",
      "source": [
        "def showPair(X, y, image):\n",
        "  subplot = plt.subplot(1,2,1)\n",
        "  plt.imshow(X[image][0])\n",
        "  subplot.axis(\"off\")\n",
        "  subplot = plt.subplot(1,2,2)\n",
        "  subplot.axis(\"off\")\n",
        "  plt.imshow(X[image][1])\n",
        "  plt.title(y[image])\n",
        "  plt.show()"
      ],
      "metadata": {
        "id": "2VglXKvY8_Bq"
      },
      "execution_count": 23,
      "outputs": []
    },
    {
      "cell_type": "code",
      "source": [
        "# Create Pairs - we need to pass a pair of objects\n",
        "# and a label indicating that objects are equal or not\n",
        "\n",
        "# min_pairs - how many equal pairs as min we want in the dataset\n",
        "def create_pairs(X, y, min_pairs=2000):\n",
        "  pairs = []\n",
        "  labels = []\n",
        "  equal_items = 0\n",
        "  # we have 10 classes\n",
        "  # index[1] - all positions with values equals to 1\n",
        "  # index[2] - all positions with values equals to 2\n",
        "  index = [np.where(y == i)[0] for i in range(10)]\n",
        "\n",
        "  for item in range(len(X)):\n",
        "    if equal_items < min_pairs:\n",
        "      random_index = np.random.randint(len(index[y[item]]))\n",
        "      num_pairs = index[y[item]][random_index]\n",
        "      equal_items += 1\n",
        "    else:\n",
        "      num_pairs = np.random.randint(len(X))\n",
        "\n",
        "    labels += [y[item] == y[num_pairs]]\n",
        "    pairs += [[X[item], X[num_pairs]]]\n",
        "\n",
        "  return np.array(pairs), np.array(labels).astype(\"float32\")"
      ],
      "metadata": {
        "id": "BdZiYp475KoO"
      },
      "execution_count": 28,
      "outputs": []
    },
    {
      "cell_type": "code",
      "source": [
        "train_pairs, train_labels = create_pairs(x_train, y_train)\n",
        "test_pairs, test_labels = create_pairs(x_test, y_test)"
      ],
      "metadata": {
        "id": "K_rB_kKt8itm"
      },
      "execution_count": 29,
      "outputs": []
    },
    {
      "cell_type": "code",
      "source": [
        "train_pairs.shape"
      ],
      "metadata": {
        "colab": {
          "base_uri": "https://localhost:8080/"
        },
        "id": "7FabxuzV8wsu",
        "outputId": "d906bb16-56a7-42a0-e92a-7e8f59aebd3e"
      },
      "execution_count": 30,
      "outputs": [
        {
          "output_type": "execute_result",
          "data": {
            "text/plain": [
              "(60000, 2, 28, 28)"
            ]
          },
          "metadata": {},
          "execution_count": 30
        }
      ]
    },
    {
      "cell_type": "code",
      "source": [
        "train_labels.shape"
      ],
      "metadata": {
        "colab": {
          "base_uri": "https://localhost:8080/"
        },
        "id": "QbgUTzCP-K2_",
        "outputId": "9ae6be35-a03d-4dab-bfc0-0580f5408480"
      },
      "execution_count": 33,
      "outputs": [
        {
          "output_type": "execute_result",
          "data": {
            "text/plain": [
              "(60000,)"
            ]
          },
          "metadata": {},
          "execution_count": 33
        }
      ]
    },
    {
      "cell_type": "code",
      "source": [
        "train_labels[0]"
      ],
      "metadata": {
        "colab": {
          "base_uri": "https://localhost:8080/"
        },
        "id": "y1FyfqID-Qkc",
        "outputId": "fbfb6a7a-8090-426a-83de-c59a761d0af3"
      },
      "execution_count": 34,
      "outputs": [
        {
          "output_type": "execute_result",
          "data": {
            "text/plain": [
              "1.0"
            ]
          },
          "metadata": {},
          "execution_count": 34
        }
      ]
    },
    {
      "cell_type": "code",
      "source": [
        "showPair(train_pairs, train_labels, 1343)"
      ],
      "metadata": {
        "colab": {
          "base_uri": "https://localhost:8080/",
          "height": 284
        },
        "id": "fuduNGe5859a",
        "outputId": "976bd719-a3b2-40ad-9198-78424f5790c4"
      },
      "execution_count": 32,
      "outputs": [
        {
          "output_type": "display_data",
          "data": {
            "text/plain": [
              "<Figure size 640x480 with 2 Axes>"
            ],
            "image/png": "[encoded data removed]"
          },
          "metadata": {}
        }
      ]
    },
    {
      "cell_type": "code",
      "source": [],
      "metadata": {
        "id": "ibVn-AsF9are"
      },
      "execution_count": null,
      "outputs": []
    }
  ]
}