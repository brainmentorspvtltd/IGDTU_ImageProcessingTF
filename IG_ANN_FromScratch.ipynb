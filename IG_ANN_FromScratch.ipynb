{
  "nbformat": 4,
  "nbformat_minor": 0,
  "metadata": {
    "colab": {
      "provenance": [],
      "authorship_tag": "ABX9TyNtW8SLw/ydJXPV8Z+t8hhk",
      "include_colab_link": true
    },
    "kernelspec": {
      "name": "python3",
      "display_name": "Python 3"
    },
    "language_info": {
      "name": "python"
    }
  },
  "cells": [
    {
      "cell_type": "markdown",
      "metadata": {
        "id": "view-in-github",
        "colab_type": "text"
      },
      "source": [
        "<a href=\"https://colab.research.google.com/github/brainmentorspvtltd/IGDTU_ImageProcessingTF/blob/main/IG_ANN_FromScratch.ipynb\" target=\"_parent\"><img src=\"https://colab.research.google.com/assets/colab-badge.svg\" alt=\"Open In Colab\"/></a>"
      ]
    },
    {
      "cell_type": "code",
      "execution_count": null,
      "metadata": {
        "id": "tspyYtMLffbB"
      },
      "outputs": [],
      "source": [
        "import numpy as np"
      ]
    },
    {
      "cell_type": "code",
      "source": [
        "X = np.array([\n",
        "    [1,0,1,0],\n",
        "    [1,0,1,1],\n",
        "    [0,1,0,1]\n",
        "])\n",
        "\n",
        "y = np.array([[1],[1],[0]])"
      ],
      "metadata": {
        "id": "2sqccMVUh48U"
      },
      "execution_count": null,
      "outputs": []
    },
    {
      "cell_type": "code",
      "source": [
        "X.shape"
      ],
      "metadata": {
        "colab": {
          "base_uri": "https://localhost:8080/"
        },
        "id": "FifKEOebiMKf",
        "outputId": "2358481e-25c4-4c6b-8c45-80570f19cd1a"
      },
      "execution_count": null,
      "outputs": [
        {
          "output_type": "execute_result",
          "data": {
            "text/plain": [
              "(3, 4)"
            ]
          },
          "metadata": {},
          "execution_count": 3
        }
      ]
    },
    {
      "cell_type": "code",
      "source": [
        "inputNeurons = X.shape[1]\n",
        "hiddenNeurons = 4\n",
        "outputNeurons = 1\n",
        "alpha = 0.1"
      ],
      "metadata": {
        "id": "zF6b5cCAilwn"
      },
      "execution_count": null,
      "outputs": []
    },
    {
      "cell_type": "code",
      "source": [
        "weightsHidden = np.random.uniform(size=(inputNeurons, hiddenNeurons))\n",
        "biasHidden = np.random.uniform(size=(1,hiddenNeurons))\n",
        "weightsOutput = np.random.uniform(size=(hiddenNeurons, outputNeurons))\n",
        "biasOutput = np.random.uniform(size=(1,outputNeurons))"
      ],
      "metadata": {
        "id": "pKUt7aqBiwNm"
      },
      "execution_count": null,
      "outputs": []
    },
    {
      "cell_type": "code",
      "source": [
        "def sigmoid(x):\n",
        "  return 1 / (1 + np.exp(-x))\n",
        "\n",
        "def derivativeSigmoid(x):\n",
        "  return x * (1 - x)"
      ],
      "metadata": {
        "id": "0xeq-7mCjWIo"
      },
      "execution_count": null,
      "outputs": []
    },
    {
      "cell_type": "code",
      "source": [
        "# Feedforward\n",
        "\n",
        "# Step - 1 - apply linear equation\n",
        "fx1 = np.dot(X, weightsHidden) + biasHidden\n",
        "\n",
        "# Step - 2 - apply activation for non-linearity\n",
        "z = sigmoid(fx1)"
      ],
      "metadata": {
        "id": "R4BIkJEPkWdh"
      },
      "execution_count": null,
      "outputs": []
    },
    {
      "cell_type": "code",
      "source": [
        "fx1"
      ],
      "metadata": {
        "colab": {
          "base_uri": "https://localhost:8080/"
        },
        "id": "02uBE21wk8YJ",
        "outputId": "4df30b4a-5a13-43db-de59-98f4d1f4366d"
      },
      "execution_count": null,
      "outputs": [
        {
          "output_type": "execute_result",
          "data": {
            "text/plain": [
              "array([[1.2756284 , 1.54262829, 1.2569226 , 1.82126204],\n",
              "       [1.35570649, 1.75022543, 1.87381141, 2.64108591],\n",
              "       [0.40243901, 1.06147263, 1.07452495, 1.24513202]])"
            ]
          },
          "metadata": {},
          "execution_count": 8
        }
      ]
    },
    {
      "cell_type": "code",
      "source": [
        "z"
      ],
      "metadata": {
        "colab": {
          "base_uri": "https://localhost:8080/"
        },
        "id": "7YMTk2eFk-Gq",
        "outputId": "a3c89d81-4835-4257-91ee-f368abc3e130"
      },
      "execution_count": null,
      "outputs": [
        {
          "output_type": "execute_result",
          "data": {
            "text/plain": [
              "array([[0.78170472, 0.82384648, 0.77849589, 0.86071749],\n",
              "       [0.795061  , 0.85198123, 0.86689867, 0.93345945],\n",
              "       [0.59927352, 0.74297187, 0.74545648, 0.77645605]])"
            ]
          },
          "metadata": {},
          "execution_count": 9
        }
      ]
    },
    {
      "cell_type": "code",
      "source": [
        "# Step - 3 : apply linear equation on output of hidden layer\n",
        "fx2 = np.dot(z, weightsOutput) + biasOutput\n",
        "\n",
        "# Step - 4 : apply activation on output layer\n",
        "output = sigmoid(fx2)"
      ],
      "metadata": {
        "id": "CHIRMesrk_pT"
      },
      "execution_count": null,
      "outputs": []
    },
    {
      "cell_type": "code",
      "source": [
        "output"
      ],
      "metadata": {
        "colab": {
          "base_uri": "https://localhost:8080/"
        },
        "id": "wvW-wzmrlQ9l",
        "outputId": "babdd8b7-676b-47df-cac4-1fb0265b87ae"
      },
      "execution_count": null,
      "outputs": [
        {
          "output_type": "execute_result",
          "data": {
            "text/plain": [
              "array([[0.86345178],\n",
              "       [0.8744019 ],\n",
              "       [0.84896923]])"
            ]
          },
          "metadata": {},
          "execution_count": 11
        }
      ]
    },
    {
      "cell_type": "code",
      "source": [
        "y"
      ],
      "metadata": {
        "colab": {
          "base_uri": "https://localhost:8080/"
        },
        "id": "xUJbMmkalSWi",
        "outputId": "94e52485-1bc3-4149-ecc7-15fb185ebc44"
      },
      "execution_count": null,
      "outputs": [
        {
          "output_type": "execute_result",
          "data": {
            "text/plain": [
              "array([[1],\n",
              "       [1],\n",
              "       [0]])"
            ]
          },
          "metadata": {},
          "execution_count": 12
        }
      ]
    },
    {
      "cell_type": "code",
      "source": [
        "outputLoss = output - y"
      ],
      "metadata": {
        "id": "eSg8mFg2lUXb"
      },
      "execution_count": null,
      "outputs": []
    },
    {
      "cell_type": "code",
      "source": [
        "outputLoss"
      ],
      "metadata": {
        "colab": {
          "base_uri": "https://localhost:8080/"
        },
        "id": "sSIUKKukiNv-",
        "outputId": "8c875198-676d-452a-ae0f-0b47ea2566bd"
      },
      "execution_count": null,
      "outputs": [
        {
          "output_type": "execute_result",
          "data": {
            "text/plain": [
              "array([[-0.13654822],\n",
              "       [-0.1255981 ],\n",
              "       [ 0.84896923]])"
            ]
          },
          "metadata": {},
          "execution_count": 14
        }
      ]
    },
    {
      "cell_type": "code",
      "source": [
        "outputSlope = derivativeSigmoid(output)"
      ],
      "metadata": {
        "id": "ZJ-dasf6iOlD"
      },
      "execution_count": null,
      "outputs": []
    },
    {
      "cell_type": "code",
      "source": [
        "output"
      ],
      "metadata": {
        "colab": {
          "base_uri": "https://localhost:8080/"
        },
        "id": "9PJbVkJSimfN",
        "outputId": "24d13da1-1859-4975-b94f-7052f37bf582"
      },
      "execution_count": null,
      "outputs": [
        {
          "output_type": "execute_result",
          "data": {
            "text/plain": [
              "array([[0.86345178],\n",
              "       [0.8744019 ],\n",
              "       [0.84896923]])"
            ]
          },
          "metadata": {},
          "execution_count": 17
        }
      ]
    },
    {
      "cell_type": "code",
      "source": [
        "outputSlope"
      ],
      "metadata": {
        "colab": {
          "base_uri": "https://localhost:8080/"
        },
        "id": "vC47tM8HintI",
        "outputId": "052d1053-5018-4c5f-c8b3-4fc58a3adba1"
      },
      "execution_count": null,
      "outputs": [
        {
          "output_type": "execute_result",
          "data": {
            "text/plain": [
              "array([[0.1179028 ],\n",
              "       [0.10982322],\n",
              "       [0.12822047]])"
            ]
          },
          "metadata": {},
          "execution_count": 18
        }
      ]
    },
    {
      "cell_type": "code",
      "source": [
        "deltaOutput = outputLoss * outputSlope"
      ],
      "metadata": {
        "id": "g590Qm32iplb"
      },
      "execution_count": null,
      "outputs": []
    },
    {
      "cell_type": "code",
      "source": [
        "deltaOutput"
      ],
      "metadata": {
        "colab": {
          "base_uri": "https://localhost:8080/"
        },
        "id": "s51rTLdiiw3p",
        "outputId": "6f616837-2226-4a8a-f637-8284c4422a1f"
      },
      "execution_count": null,
      "outputs": [
        {
          "output_type": "execute_result",
          "data": {
            "text/plain": [
              "array([[-0.01609942],\n",
              "       [-0.01379359],\n",
              "       [ 0.10885524]])"
            ]
          },
          "metadata": {},
          "execution_count": 22
        }
      ]
    },
    {
      "cell_type": "code",
      "source": [
        "hiddenLoss = np.dot(deltaOutput, weightsOutput.T)"
      ],
      "metadata": {
        "id": "kyMkMpziixLN"
      },
      "execution_count": null,
      "outputs": []
    },
    {
      "cell_type": "code",
      "source": [
        "hiddenLoss"
      ],
      "metadata": {
        "colab": {
          "base_uri": "https://localhost:8080/"
        },
        "id": "Hhuvju_xjEmA",
        "outputId": "9a282ba7-73ab-4a37-89fc-4f82bd3afd4f"
      },
      "execution_count": null,
      "outputs": [
        {
          "output_type": "execute_result",
          "data": {
            "text/plain": [
              "array([[-0.0003746 , -0.01507775, -0.00993641, -0.00331347],\n",
              "       [-0.00032095, -0.01291825, -0.00851327, -0.0028389 ],\n",
              "       [ 0.00253284,  0.10194731,  0.06718445,  0.02240384]])"
            ]
          },
          "metadata": {},
          "execution_count": 27
        }
      ]
    },
    {
      "cell_type": "code",
      "source": [
        "hiddenSlope = derivativeSigmoid(z)\n",
        "hiddenDelta = hiddenLoss * hiddenSlope"
      ],
      "metadata": {
        "id": "_8CtU-vCjG2t"
      },
      "execution_count": null,
      "outputs": []
    },
    {
      "cell_type": "code",
      "source": [
        "# Weights and Bias Optimization"
      ],
      "metadata": {
        "id": "LF-12dHcjI7d"
      },
      "execution_count": null,
      "outputs": []
    },
    {
      "cell_type": "code",
      "source": [
        "weightsOutput = weightsOutput - z.T.dot(deltaOutput) * alpha\n",
        "weightsHidden = weightsHidden - X.T.dot(hiddenDelta) * alpha\n",
        "biasOutput = biasOutput - np.sum(deltaOutput) * alpha\n",
        "biasHidden = biasHidden - np.sum(hiddenDelta) * alpha"
      ],
      "metadata": {
        "id": "StpWl5lNkTzW"
      },
      "execution_count": null,
      "outputs": []
    },
    {
      "cell_type": "code",
      "source": [
        "epochs = 5000\n",
        "\n",
        "weightsHidden = np.random.uniform(size=(inputNeurons, hiddenNeurons))\n",
        "biasHidden = np.random.uniform(size=(1,hiddenNeurons))\n",
        "weightsOutput = np.random.uniform(size=(hiddenNeurons, outputNeurons))\n",
        "biasOutput = np.random.uniform(size=(1,outputNeurons))\n",
        "\n",
        "for i in range(epochs):\n",
        "\n",
        "  # Feedforward\n",
        "  # Step - 1 - apply linear equation\n",
        "  fx1 = np.dot(X, weightsHidden) + biasHidden\n",
        "  # Step - 2 - apply activation for non-linearity\n",
        "  z = sigmoid(fx1)\n",
        "  # Step - 3 : apply linear equation on output of hidden layer\n",
        "  fx2 = np.dot(z, weightsOutput) + biasOutput\n",
        "  # Step - 4 : apply activation on output layer\n",
        "  output = sigmoid(fx2)\n",
        "\n",
        "  # Backpropagation\n",
        "  outputLoss = output - y\n",
        "  outputSlope = derivativeSigmoid(output)\n",
        "  deltaOutput = outputLoss * outputSlope\n",
        "  \n",
        "  hiddenLoss = np.dot(deltaOutput, weightsOutput.T)\n",
        "  hiddenSlope = derivativeSigmoid(z)\n",
        "  hiddenDelta = hiddenLoss * hiddenSlope\n",
        "\n",
        "  # Weights and Bias Optimization\n",
        "  weightsOutput = weightsOutput - z.T.dot(deltaOutput) * alpha\n",
        "  weightsHidden = weightsHidden - X.T.dot(hiddenDelta) * alpha\n",
        "  biasOutput = biasOutput - np.sum(deltaOutput) * alpha\n",
        "  biasHidden = biasHidden - np.sum(hiddenDelta) * alpha"
      ],
      "metadata": {
        "id": "wFUtHJS7oybd"
      },
      "execution_count": null,
      "outputs": []
    },
    {
      "cell_type": "code",
      "source": [
        "output"
      ],
      "metadata": {
        "colab": {
          "base_uri": "https://localhost:8080/"
        },
        "id": "2EqB2vyorW3m",
        "outputId": "df5d469e-9ce9-483b-adf7-b7a38f67cc68"
      },
      "execution_count": null,
      "outputs": [
        {
          "output_type": "execute_result",
          "data": {
            "text/plain": [
              "array([[0.9823114 ],\n",
              "       [0.97627149],\n",
              "       [0.0332416 ]])"
            ]
          },
          "metadata": {},
          "execution_count": 48
        }
      ]
    },
    {
      "cell_type": "code",
      "source": [
        "outputLoss"
      ],
      "metadata": {
        "colab": {
          "base_uri": "https://localhost:8080/"
        },
        "id": "AmHUWxQBrYnh",
        "outputId": "96922483-3b8e-4a25-af75-a72a1f2ac8e3"
      },
      "execution_count": null,
      "outputs": [
        {
          "output_type": "execute_result",
          "data": {
            "text/plain": [
              "array([[-0.0176886 ],\n",
              "       [-0.02372851],\n",
              "       [ 0.0332416 ]])"
            ]
          },
          "metadata": {},
          "execution_count": 50
        }
      ]
    },
    {
      "cell_type": "code",
      "source": [],
      "metadata": {
        "id": "f5codzLvr80j"
      },
      "execution_count": null,
      "outputs": []
    }
  ]
}