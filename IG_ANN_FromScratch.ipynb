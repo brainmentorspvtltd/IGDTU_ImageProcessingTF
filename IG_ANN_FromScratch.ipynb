{
  "nbformat": 4,
  "nbformat_minor": 0,
  "metadata": {
    "colab": {
      "provenance": [],
      "authorship_tag": "ABX9TyMJNkR+CZMqPmKdPNeb+Lph",
      "include_colab_link": true
    },
    "kernelspec": {
      "name": "python3",
      "display_name": "Python 3"
    },
    "language_info": {
      "name": "python"
    }
  },
  "cells": [
    {
      "cell_type": "markdown",
      "metadata": {
        "id": "view-in-github",
        "colab_type": "text"
      },
      "source": [
        "<a href=\"https://colab.research.google.com/github/brainmentorspvtltd/IGDTU_ImageProcessingTF/blob/main/IG_ANN_FromScratch.ipynb\" target=\"_parent\"><img src=\"https://colab.research.google.com/assets/colab-badge.svg\" alt=\"Open In Colab\"/></a>"
      ]
    },
    {
      "cell_type": "code",
      "execution_count": 1,
      "metadata": {
        "id": "tspyYtMLffbB"
      },
      "outputs": [],
      "source": [
        "import numpy as np"
      ]
    },
    {
      "cell_type": "code",
      "source": [
        "X = np.array([\n",
        "    [1,0,1,0],\n",
        "    [1,0,1,1],\n",
        "    [0,1,0,1]\n",
        "])\n",
        "\n",
        "y = np.array([[1],[1],[0]])"
      ],
      "metadata": {
        "id": "2sqccMVUh48U"
      },
      "execution_count": 2,
      "outputs": []
    },
    {
      "cell_type": "code",
      "source": [
        "X.shape"
      ],
      "metadata": {
        "colab": {
          "base_uri": "https://localhost:8080/"
        },
        "id": "FifKEOebiMKf",
        "outputId": "24a4feff-651e-44ed-cde8-aa14f5a8aadb"
      },
      "execution_count": 3,
      "outputs": [
        {
          "output_type": "execute_result",
          "data": {
            "text/plain": [
              "(3, 4)"
            ]
          },
          "metadata": {},
          "execution_count": 3
        }
      ]
    },
    {
      "cell_type": "code",
      "source": [
        "inputNeurons = X.shape[1]\n",
        "hiddenNeurons = 4\n",
        "outputNeurons = 1"
      ],
      "metadata": {
        "id": "zF6b5cCAilwn"
      },
      "execution_count": 4,
      "outputs": []
    },
    {
      "cell_type": "code",
      "source": [
        "weightsHidden = np.random.uniform(size=(inputNeurons, hiddenNeurons))\n",
        "biasHidden = np.random.uniform(size=(1,hiddenNeurons))\n",
        "weightsOutput = np.random.uniform(size=(hiddenNeurons, outputNeurons))\n",
        "biasOutput = np.random.uniform(size=(1,outputNeurons))"
      ],
      "metadata": {
        "id": "pKUt7aqBiwNm"
      },
      "execution_count": 5,
      "outputs": []
    },
    {
      "cell_type": "code",
      "source": [
        "def sigmoid(x):\n",
        "  return 1 / (1 + np.exp(-x))"
      ],
      "metadata": {
        "id": "0xeq-7mCjWIo"
      },
      "execution_count": 6,
      "outputs": []
    },
    {
      "cell_type": "code",
      "source": [
        "# Feedforward\n",
        "\n",
        "# Step - 1 - apply linear equation\n",
        "fx1 = np.dot(X, weightsHidden) + biasHidden\n",
        "\n",
        "# Step - 2 - apply activation for non-linearity\n",
        "z = sigmoid(fx1)"
      ],
      "metadata": {
        "id": "R4BIkJEPkWdh"
      },
      "execution_count": 7,
      "outputs": []
    },
    {
      "cell_type": "code",
      "source": [
        "fx1"
      ],
      "metadata": {
        "colab": {
          "base_uri": "https://localhost:8080/"
        },
        "id": "02uBE21wk8YJ",
        "outputId": "cff14aac-a468-4ce6-9cdb-48421dbe609a"
      },
      "execution_count": 8,
      "outputs": [
        {
          "output_type": "execute_result",
          "data": {
            "text/plain": [
              "array([[0.87401113, 0.34321397, 2.47949433, 0.56804463],\n",
              "       [1.83575394, 0.68086545, 2.73104661, 0.94896631],\n",
              "       [1.61196121, 0.8279703 , 1.28507418, 1.34762227]])"
            ]
          },
          "metadata": {},
          "execution_count": 8
        }
      ]
    },
    {
      "cell_type": "code",
      "source": [
        "z"
      ],
      "metadata": {
        "colab": {
          "base_uri": "https://localhost:8080/"
        },
        "id": "7YMTk2eFk-Gq",
        "outputId": "9906422e-3ded-4447-d93d-c3fd87c72695"
      },
      "execution_count": 9,
      "outputs": [
        {
          "output_type": "execute_result",
          "data": {
            "text/plain": [
              "array([[0.70557964, 0.58497102, 0.92269174, 0.63831186],\n",
              "       [0.86244576, 0.66393183, 0.93883397, 0.72090725],\n",
              "       [0.8336835 , 0.69592559, 0.78331228, 0.79374063]])"
            ]
          },
          "metadata": {},
          "execution_count": 9
        }
      ]
    },
    {
      "cell_type": "code",
      "source": [
        "# Step - 3 : apply linear equation on output of hidden layer\n",
        "fx2 = np.dot(z, weightsOutput) + biasOutput\n",
        "\n",
        "# Step - 4 : apply activation on output layer\n",
        "output = sigmoid(fx2)"
      ],
      "metadata": {
        "id": "CHIRMesrk_pT"
      },
      "execution_count": 10,
      "outputs": []
    },
    {
      "cell_type": "code",
      "source": [
        "output"
      ],
      "metadata": {
        "colab": {
          "base_uri": "https://localhost:8080/"
        },
        "id": "wvW-wzmrlQ9l",
        "outputId": "902dbb27-a98f-4e9c-e679-350c18dee367"
      },
      "execution_count": 11,
      "outputs": [
        {
          "output_type": "execute_result",
          "data": {
            "text/plain": [
              "array([[0.86955693],\n",
              "       [0.88507387],\n",
              "       [0.880708  ]])"
            ]
          },
          "metadata": {},
          "execution_count": 11
        }
      ]
    },
    {
      "cell_type": "code",
      "source": [
        "y"
      ],
      "metadata": {
        "colab": {
          "base_uri": "https://localhost:8080/"
        },
        "id": "xUJbMmkalSWi",
        "outputId": "c9c9e482-6f8d-4f19-b371-9499a4c9f37a"
      },
      "execution_count": 12,
      "outputs": [
        {
          "output_type": "execute_result",
          "data": {
            "text/plain": [
              "array([[1],\n",
              "       [1],\n",
              "       [0]])"
            ]
          },
          "metadata": {},
          "execution_count": 12
        }
      ]
    },
    {
      "cell_type": "code",
      "source": [],
      "metadata": {
        "id": "eSg8mFg2lUXb"
      },
      "execution_count": null,
      "outputs": []
    }
  ]
}