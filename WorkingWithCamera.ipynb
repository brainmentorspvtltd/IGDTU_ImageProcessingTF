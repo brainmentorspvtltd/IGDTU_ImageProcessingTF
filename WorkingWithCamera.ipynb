{
 "cells": [
  {
   "cell_type": "code",
   "execution_count": 1,
   "id": "780e5165",
   "metadata": {},
   "outputs": [],
   "source": [
    "# Using Camera for Image Processing"
   ]
  },
  {
   "cell_type": "code",
   "execution_count": 2,
   "id": "7c2ba636",
   "metadata": {},
   "outputs": [],
   "source": [
    "import cv2"
   ]
  },
  {
   "cell_type": "code",
   "execution_count": 4,
   "id": "f5353a60",
   "metadata": {},
   "outputs": [],
   "source": [
    "# 0 - default camera\n",
    "# 1 - if webcam\n",
    "cap = cv2.VideoCapture(0)\n",
    "i = 0\n",
    "while True:\n",
    "    flag, frame = cap.read()\n",
    "    if flag:\n",
    "        i += 1\n",
    "        gray_img = cv2.cvtColor(frame, cv2.COLOR_BGR2GRAY)\n",
    "        cv2.imshow('gray',gray_img)\n",
    "        cv2.imshow(\"frame\", frame)\n",
    "        cv2.imwrite(f\"images/img_{i}.jpg\",frame)\n",
    "        \n",
    "        # 27 - escape key ASCII number\n",
    "        # opencv will close the camera when we press esc\n",
    "        # waitKey(1) - it will wait atleast 1 millisecond to switch to another window\n",
    "        if cv2.waitKey(1) == 27:\n",
    "            break\n",
    "    else:\n",
    "        print(\"Camera not available/working\")\n",
    "        break\n",
    "\n",
    "# we need to release camera object so that other application can use it\n",
    "cap.release()\n",
    "# it will destroy/close all the windows that opencv has opened\n",
    "cv2.destroyAllWindows()"
   ]
  },
  {
   "cell_type": "code",
   "execution_count": null,
   "id": "ef46941b",
   "metadata": {},
   "outputs": [],
   "source": []
  }
 ],
 "metadata": {
  "kernelspec": {
   "display_name": "Python 3 (ipykernel)",
   "language": "python",
   "name": "python3"
  },
  "language_info": {
   "codemirror_mode": {
    "name": "ipython",
    "version": 3
   },
   "file_extension": ".py",
   "mimetype": "text/x-python",
   "name": "python",
   "nbconvert_exporter": "python",
   "pygments_lexer": "ipython3",
   "version": "3.9.13"
  }
 },
 "nbformat": 4,
 "nbformat_minor": 5
}
