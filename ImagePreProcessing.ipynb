{
 "cells": [
  {
   "cell_type": "code",
   "execution_count": 1,
   "id": "4321e5cd",
   "metadata": {},
   "outputs": [],
   "source": [
    "# Computer Vision using Opencv\n",
    "# image - collection of pixels\n",
    "# we get an array when we read any image"
   ]
  },
  {
   "cell_type": "code",
   "execution_count": 3,
   "id": "a2359130",
   "metadata": {},
   "outputs": [
    {
     "name": "stdout",
     "output_type": "stream",
     "text": [
      "Requirement already satisfied: opencv-python in c:\\users\\asus\\anaconda3\\lib\\site-packages (4.7.0.72)\n",
      "Requirement already satisfied: numpy>=1.17.3 in c:\\users\\asus\\anaconda3\\lib\\site-packages (from opencv-python) (1.21.5)\n"
     ]
    }
   ],
   "source": [
    "!pip install opencv-python"
   ]
  },
  {
   "cell_type": "code",
   "execution_count": 1,
   "id": "c645557a",
   "metadata": {},
   "outputs": [],
   "source": [
    "import cv2"
   ]
  },
  {
   "cell_type": "code",
   "execution_count": 2,
   "id": "1f239f1b",
   "metadata": {},
   "outputs": [],
   "source": [
    "img = cv2.imread(\"img_1.jpg\")"
   ]
  },
  {
   "cell_type": "code",
   "execution_count": 3,
   "id": "1b96b813",
   "metadata": {},
   "outputs": [
    {
     "data": {
      "text/plain": [
       "numpy.ndarray"
      ]
     },
     "execution_count": 3,
     "metadata": {},
     "output_type": "execute_result"
    }
   ],
   "source": [
    "type(img)"
   ]
  },
  {
   "cell_type": "code",
   "execution_count": 4,
   "id": "9a2e088a",
   "metadata": {},
   "outputs": [
    {
     "data": {
      "text/plain": [
       "(450, 600, 3)"
      ]
     },
     "execution_count": 4,
     "metadata": {},
     "output_type": "execute_result"
    }
   ],
   "source": [
    "img.shape"
   ]
  },
  {
   "cell_type": "code",
   "execution_count": 5,
   "id": "c3d9f96e",
   "metadata": {},
   "outputs": [
    {
     "data": {
      "text/plain": [
       "array([[251, 220, 205],\n",
       "       [251, 220, 205],\n",
       "       [250, 219, 204],\n",
       "       ...,\n",
       "       [250, 219, 204],\n",
       "       [251, 220, 205],\n",
       "       [251, 220, 205]], dtype=uint8)"
      ]
     },
     "execution_count": 5,
     "metadata": {},
     "output_type": "execute_result"
    }
   ],
   "source": [
    "# opencv reads BGR instead of RGB\n",
    "img[0]"
   ]
  },
  {
   "cell_type": "code",
   "execution_count": 6,
   "id": "3cb51efc",
   "metadata": {},
   "outputs": [
    {
     "data": {
      "text/plain": [
       "-1"
      ]
     },
     "execution_count": 6,
     "metadata": {},
     "output_type": "execute_result"
    }
   ],
   "source": [
    "cv2.imshow(\"result\", img)\n",
    "cv2.waitKey(0)"
   ]
  },
  {
   "cell_type": "code",
   "execution_count": 8,
   "id": "e46cfeff",
   "metadata": {},
   "outputs": [],
   "source": [
    "# Preprocessing on images\n",
    "# - Normalization\n",
    "# - Blurring\n",
    "# - GrayScale\n",
    "# - Scaling\n",
    "# - Noise Removal\n",
    "# - Threshold"
   ]
  },
  {
   "cell_type": "code",
   "execution_count": 12,
   "id": "ced85a99",
   "metadata": {},
   "outputs": [
    {
     "data": {
      "text/plain": [
       "array([[251, 220, 205],\n",
       "       [251, 220, 205],\n",
       "       [250, 219, 204],\n",
       "       ...,\n",
       "       [250, 219, 204],\n",
       "       [251, 220, 205],\n",
       "       [251, 220, 205]], dtype=uint8)"
      ]
     },
     "execution_count": 12,
     "metadata": {},
     "output_type": "execute_result"
    }
   ],
   "source": [
    "# 0th row\n",
    "img[0]"
   ]
  },
  {
   "cell_type": "code",
   "execution_count": 11,
   "id": "009b6c85",
   "metadata": {},
   "outputs": [
    {
     "data": {
      "text/plain": [
       "array([[251, 220, 205],\n",
       "       [251, 220, 205],\n",
       "       [250, 219, 204],\n",
       "       ...,\n",
       "       [250, 219, 204],\n",
       "       [248, 217, 202],\n",
       "       [250, 219, 204]], dtype=uint8)"
      ]
     },
     "execution_count": 11,
     "metadata": {},
     "output_type": "execute_result"
    }
   ],
   "source": [
    "# 0th col\n",
    "img[:,0]"
   ]
  },
  {
   "cell_type": "code",
   "execution_count": 16,
   "id": "40a6adff",
   "metadata": {},
   "outputs": [],
   "source": [
    "img_2 = cv2.resize(img,(224,224))"
   ]
  },
  {
   "cell_type": "code",
   "execution_count": 17,
   "id": "94a2d91d",
   "metadata": {},
   "outputs": [
    {
     "data": {
      "text/plain": [
       "(224, 224, 3)"
      ]
     },
     "execution_count": 17,
     "metadata": {},
     "output_type": "execute_result"
    }
   ],
   "source": [
    "img_2.shape"
   ]
  },
  {
   "cell_type": "code",
   "execution_count": 18,
   "id": "07cdc577",
   "metadata": {},
   "outputs": [
    {
     "data": {
      "text/plain": [
       "-1"
      ]
     },
     "execution_count": 18,
     "metadata": {},
     "output_type": "execute_result"
    }
   ],
   "source": [
    "cv2.imshow('img_1', img)\n",
    "cv2.imshow('img_2', img_2)\n",
    "cv2.waitKey(0)"
   ]
  },
  {
   "cell_type": "code",
   "execution_count": 19,
   "id": "ce755968",
   "metadata": {},
   "outputs": [],
   "source": [
    "# GrayScale"
   ]
  },
  {
   "cell_type": "code",
   "execution_count": 20,
   "id": "d71bccdd",
   "metadata": {},
   "outputs": [
    {
     "data": {
      "text/plain": [
       "-1"
      ]
     },
     "execution_count": 20,
     "metadata": {},
     "output_type": "execute_result"
    }
   ],
   "source": [
    "gray_img = cv2.cvtColor(img, cv2.COLOR_BGR2GRAY)\n",
    "cv2.imshow('res',gray_img)\n",
    "cv2.waitKey(0)"
   ]
  },
  {
   "cell_type": "code",
   "execution_count": 23,
   "id": "636aba46",
   "metadata": {},
   "outputs": [
    {
     "data": {
      "text/plain": [
       "-1"
      ]
     },
     "execution_count": 23,
     "metadata": {},
     "output_type": "execute_result"
    }
   ],
   "source": [
    "# Thresholding - Binary Threshold\n",
    "x, thresh_output = cv2.threshold(img, 127, 255, cv2.THRESH_BINARY)\n",
    "\n",
    "cv2.imshow('res_1', img)\n",
    "cv2.imshow('res_2', thresh_output)\n",
    "cv2.waitKey(0)"
   ]
  },
  {
   "cell_type": "code",
   "execution_count": 25,
   "id": "5f7299ef",
   "metadata": {},
   "outputs": [],
   "source": [
    "# Noise Reduction - filters\n",
    "# Median Filter\n",
    "# Gaussian Filter"
   ]
  },
  {
   "cell_type": "code",
   "execution_count": 27,
   "id": "9e412f43",
   "metadata": {},
   "outputs": [
    {
     "data": {
      "text/plain": [
       "-1"
      ]
     },
     "execution_count": 27,
     "metadata": {},
     "output_type": "execute_result"
    }
   ],
   "source": [
    "median = cv2.medianBlur(gray_img, 5)\n",
    "cv2.imshow('res_1', gray_img)\n",
    "cv2.imshow('res_2', median)\n",
    "cv2.waitKey(0)"
   ]
  },
  {
   "cell_type": "code",
   "execution_count": 31,
   "id": "f0eb5ec9",
   "metadata": {},
   "outputs": [
    {
     "data": {
      "text/plain": [
       "-1"
      ]
     },
     "execution_count": 31,
     "metadata": {},
     "output_type": "execute_result"
    }
   ],
   "source": [
    "gauss = cv2.GaussianBlur(gray_img, (7,7), 5)\n",
    "cv2.imshow('res_1', gray_img)\n",
    "cv2.imshow('res_2', gauss)\n",
    "cv2.waitKey(0)"
   ]
  },
  {
   "cell_type": "code",
   "execution_count": 32,
   "id": "95aa5b2f",
   "metadata": {},
   "outputs": [],
   "source": [
    "# Edge Detection"
   ]
  },
  {
   "cell_type": "code",
   "execution_count": 33,
   "id": "f805b077",
   "metadata": {},
   "outputs": [],
   "source": [
    "# Canny Edge Detector\n",
    "# - multi-stage algorithm\n",
    "# 1. Noise Reduction - applies gaussian filter\n",
    "# 2. Find intensity gradient of the image - Sobel Kernel/Filter\n",
    "# 3. Non-Max Supression\n",
    "# 4. Hysteresis Thresholding"
   ]
  },
  {
   "cell_type": "code",
   "execution_count": 39,
   "id": "afccaee1",
   "metadata": {},
   "outputs": [
    {
     "data": {
      "text/plain": [
       "-1"
      ]
     },
     "execution_count": 39,
     "metadata": {},
     "output_type": "execute_result"
    }
   ],
   "source": [
    "edges = cv2.Canny(img, 100,200)\n",
    "\n",
    "cv2.imshow('res_1', img)\n",
    "cv2.imshow('res_2', edges)\n",
    "cv2.waitKey(0)"
   ]
  },
  {
   "cell_type": "code",
   "execution_count": null,
   "id": "bb13738a",
   "metadata": {},
   "outputs": [],
   "source": []
  }
 ],
 "metadata": {
  "kernelspec": {
   "display_name": "Python 3 (ipykernel)",
   "language": "python",
   "name": "python3"
  },
  "language_info": {
   "codemirror_mode": {
    "name": "ipython",
    "version": 3
   },
   "file_extension": ".py",
   "mimetype": "text/x-python",
   "name": "python",
   "nbconvert_exporter": "python",
   "pygments_lexer": "ipython3",
   "version": "3.9.13"
  }
 },
 "nbformat": 4,
 "nbformat_minor": 5
}
